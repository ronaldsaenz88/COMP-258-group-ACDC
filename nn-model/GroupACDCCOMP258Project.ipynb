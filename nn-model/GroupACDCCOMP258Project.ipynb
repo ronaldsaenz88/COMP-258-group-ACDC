{
  "cells": [
    {
      "attachments": {},
      "cell_type": "markdown",
      "metadata": {},
      "source": [
        "# **Group Project** \n",
        "### *Welcome to the COMP 258 Project - Neural Networks Project - Full Stack Application to predict first-year Persistence​*\n",
        "\n",
        "#### *Relevant Information:*\n",
        "- College: Centennial College\n",
        "- Program: Software Engineering Technology - Artificial Intelligence\n",
        "- Term: Winter 2023\n",
        "- Course: Neural Networks (SEC. 001) - COMP258001_2023W"
      ]
    },
    {
      "attachments": {},
      "cell_type": "markdown",
      "metadata": {},
      "source": [
        "### **Group AC/DC**\n",
        "\n",
        "#### *Group Members*\n",
        "\n",
        "- Pereira Barbosa, Ana​\n",
        "- Mina Trujillo, Joan​\n",
        "- Radmy, Mahpara Rafia​\n",
        "- Sidhu, Manipal​\n",
        "- Saenz Huerta, Ronald​\n",
        "- Massa Rebolledo, Stella"
      ]
    },
    {
      "attachments": {},
      "cell_type": "markdown",
      "metadata": {},
      "source": [
        "#### *Group Project*\n",
        "\n",
        "You are supposed to use Neural Networks and build a full-stack intelligent solution for any of the following problems:\n",
        "-\tstudent success in the program (program completion)\n",
        "-\tPersistence (1st year persistence)\n",
        "-\tAcademic performance (intake GPA)\n",
        "-\tOther outcomes that you may discover in the dataset\n",
        "\n",
        "Purpose:\n",
        "The purpose of this project is to:\n",
        "- Design and code full-stack intelligent apps using emerging frameworks\n",
        "- Build a Rest or Graph QL API \n",
        "- Build a Front-End for the Rest/Graph QL API \n",
        "- Apply appropriate design patterns and principles\n",
        "- Use Neural Networks to make intelligent use of data"
      ]
    },
    {
      "attachments": {},
      "cell_type": "markdown",
      "metadata": {
        "id": "T3eMGTUrxcpp"
      },
      "source": [
        "### **A. Import Libraries**"
      ]
    },
    {
      "cell_type": "code",
      "execution_count": null,
      "metadata": {
        "id": "aK4P3BrkjEGf"
      },
      "outputs": [],
      "source": [
        "# Python ≥3.5 is required\n",
        "import sys\n",
        "assert sys.version_info >= (3, 5)\n",
        "\n",
        "# Scikit-Learn ≥0.20 is required\n",
        "import sklearn\n",
        "assert sklearn.__version__ >= \"0.20\"\n",
        "\n",
        "# TensorFlow ≥2.0 is required\n",
        "import tensorflow as tf\n",
        "from tensorflow import keras\n",
        "assert tf.__version__ >= \"2.0\"\n",
        "\n",
        "from tensorflow.keras.models import Sequential\n",
        "from tensorflow.keras.layers import Dense\n",
        "from tensorflow.keras.layers import Dropout\n",
        "from tensorflow.keras.layers import Normalization\n",
        "from tensorflow.keras.callbacks import ModelCheckpoint\n",
        "from tensorflow.keras.callbacks import EarlyStopping\n",
        "\n",
        "from sklearn.preprocessing import StandardScaler\n",
        "from sklearn.neural_network import MLPClassifier\n",
        "from sklearn.preprocessing import normalize\n",
        "from sklearn.model_selection import train_test_split\n",
        "from sklearn.metrics import classification_report, confusion_matrix\n",
        "import matplotlib.pyplot as plt\n",
        "\n",
        "from scipy import stats\n",
        "import pandas as pd\n",
        "import numpy as np\n",
        "\n",
        "import pathlib\n",
        "import pprint\n",
        "import tempfile\n"
      ]
    },
    {
      "attachments": {},
      "cell_type": "markdown",
      "metadata": {
        "id": "Krk34QnCxQPo"
      },
      "source": [
        "### **B. Data Processing**"
      ]
    },
    {
      "attachments": {},
      "cell_type": "markdown",
      "metadata": {},
      "source": [
        "Open the file using Pandas Dataframe to get the column names"
      ]
    },
    {
      "cell_type": "code",
      "execution_count": null,
      "metadata": {
        "colab": {
          "base_uri": "https://localhost:8080/",
          "height": 160
        },
        "id": "DUBJmwqDkXbx",
        "outputId": "a1541855-bed1-4bea-afb7-780f498a0085"
      },
      "outputs": [
        {
          "data": {
            "text/html": [
              "\n",
              "  <div id=\"df-d11a2c59-2a0f-459e-bff8-3f567f77398a\">\n",
              "    <div class=\"colab-df-container\">\n",
              "      <div>\n",
              "<style scoped>\n",
              "    .dataframe tbody tr th:only-of-type {\n",
              "        vertical-align: middle;\n",
              "    }\n",
              "\n",
              "    .dataframe tbody tr th {\n",
              "        vertical-align: top;\n",
              "    }\n",
              "\n",
              "    .dataframe thead th {\n",
              "        text-align: right;\n",
              "    }\n",
              "</style>\n",
              "<table border=\"1\" class=\"dataframe\">\n",
              "  <thead>\n",
              "    <tr style=\"text-align: right;\">\n",
              "      <th></th>\n",
              "      <th>0</th>\n",
              "      <th>1</th>\n",
              "      <th>2</th>\n",
              "      <th>3</th>\n",
              "      <th>4</th>\n",
              "      <th>5</th>\n",
              "      <th>6</th>\n",
              "      <th>7</th>\n",
              "      <th>8</th>\n",
              "      <th>9</th>\n",
              "      <th>10</th>\n",
              "      <th>11</th>\n",
              "      <th>12</th>\n",
              "      <th>13</th>\n",
              "      <th>14</th>\n",
              "      <th>15</th>\n",
              "      <th>16</th>\n",
              "      <th>17</th>\n",
              "    </tr>\n",
              "  </thead>\n",
              "  <tbody>\n",
              "    <tr>\n",
              "      <th>Student Data</th>\n",
              "      <td>Independent variables</td>\n",
              "      <td>First Term Gpa' numeric</td>\n",
              "      <td>Second Term Gpa' numeric</td>\n",
              "      <td>First Language' numeric</td>\n",
              "      <td>Funding numeric</td>\n",
              "      <td>School numeric</td>\n",
              "      <td>FastTrack numeric</td>\n",
              "      <td>Coop numeric</td>\n",
              "      <td>Residency numeric</td>\n",
              "      <td>Gender numeric</td>\n",
              "      <td>Previous Education' numeric</td>\n",
              "      <td>Age Group' numeric</td>\n",
              "      <td>High School Average Mark' numeric</td>\n",
              "      <td>Math Score' numeric</td>\n",
              "      <td>English Grade' numeric</td>\n",
              "      <td>NaN</td>\n",
              "      <td>Dependent variable</td>\n",
              "      <td>FirstYearPersistence {1,0}</td>\n",
              "    </tr>\n",
              "  </tbody>\n",
              "</table>\n",
              "</div>\n",
              "      <button class=\"colab-df-convert\" onclick=\"convertToInteractive('df-d11a2c59-2a0f-459e-bff8-3f567f77398a')\"\n",
              "              title=\"Convert this dataframe to an interactive table.\"\n",
              "              style=\"display:none;\">\n",
              "        \n",
              "  <svg xmlns=\"http://www.w3.org/2000/svg\" height=\"24px\"viewBox=\"0 0 24 24\"\n",
              "       width=\"24px\">\n",
              "    <path d=\"M0 0h24v24H0V0z\" fill=\"none\"/>\n",
              "    <path d=\"M18.56 5.44l.94 2.06.94-2.06 2.06-.94-2.06-.94-.94-2.06-.94 2.06-2.06.94zm-11 1L8.5 8.5l.94-2.06 2.06-.94-2.06-.94L8.5 2.5l-.94 2.06-2.06.94zm10 10l.94 2.06.94-2.06 2.06-.94-2.06-.94-.94-2.06-.94 2.06-2.06.94z\"/><path d=\"M17.41 7.96l-1.37-1.37c-.4-.4-.92-.59-1.43-.59-.52 0-1.04.2-1.43.59L10.3 9.45l-7.72 7.72c-.78.78-.78 2.05 0 2.83L4 21.41c.39.39.9.59 1.41.59.51 0 1.02-.2 1.41-.59l7.78-7.78 2.81-2.81c.8-.78.8-2.07 0-2.86zM5.41 20L4 18.59l7.72-7.72 1.47 1.35L5.41 20z\"/>\n",
              "  </svg>\n",
              "      </button>\n",
              "      \n",
              "  <style>\n",
              "    .colab-df-container {\n",
              "      display:flex;\n",
              "      flex-wrap:wrap;\n",
              "      gap: 12px;\n",
              "    }\n",
              "\n",
              "    .colab-df-convert {\n",
              "      background-color: #E8F0FE;\n",
              "      border: none;\n",
              "      border-radius: 50%;\n",
              "      cursor: pointer;\n",
              "      display: none;\n",
              "      fill: #1967D2;\n",
              "      height: 32px;\n",
              "      padding: 0 0 0 0;\n",
              "      width: 32px;\n",
              "    }\n",
              "\n",
              "    .colab-df-convert:hover {\n",
              "      background-color: #E2EBFA;\n",
              "      box-shadow: 0px 1px 2px rgba(60, 64, 67, 0.3), 0px 1px 3px 1px rgba(60, 64, 67, 0.15);\n",
              "      fill: #174EA6;\n",
              "    }\n",
              "\n",
              "    [theme=dark] .colab-df-convert {\n",
              "      background-color: #3B4455;\n",
              "      fill: #D2E3FC;\n",
              "    }\n",
              "\n",
              "    [theme=dark] .colab-df-convert:hover {\n",
              "      background-color: #434B5C;\n",
              "      box-shadow: 0px 1px 3px 1px rgba(0, 0, 0, 0.15);\n",
              "      filter: drop-shadow(0px 1px 2px rgba(0, 0, 0, 0.3));\n",
              "      fill: #FFFFFF;\n",
              "    }\n",
              "  </style>\n",
              "\n",
              "      <script>\n",
              "        const buttonEl =\n",
              "          document.querySelector('#df-d11a2c59-2a0f-459e-bff8-3f567f77398a button.colab-df-convert');\n",
              "        buttonEl.style.display =\n",
              "          google.colab.kernel.accessAllowed ? 'block' : 'none';\n",
              "\n",
              "        async function convertToInteractive(key) {\n",
              "          const element = document.querySelector('#df-d11a2c59-2a0f-459e-bff8-3f567f77398a');\n",
              "          const dataTable =\n",
              "            await google.colab.kernel.invokeFunction('convertToInteractive',\n",
              "                                                     [key], {});\n",
              "          if (!dataTable) return;\n",
              "\n",
              "          const docLinkHtml = 'Like what you see? Visit the ' +\n",
              "            '<a target=\"_blank\" href=https://colab.research.google.com/notebooks/data_table.ipynb>data table notebook</a>'\n",
              "            + ' to learn more about interactive tables.';\n",
              "          element.innerHTML = '';\n",
              "          dataTable['output_type'] = 'display_data';\n",
              "          await google.colab.output.renderOutput(dataTable, element);\n",
              "          const docLink = document.createElement('div');\n",
              "          docLink.innerHTML = docLinkHtml;\n",
              "          element.appendChild(docLink);\n",
              "        }\n",
              "      </script>\n",
              "    </div>\n",
              "  </div>\n",
              "  "
            ],
            "text/plain": [
              "                                 0                        1   \\\n",
              "Student Data  Independent variables  First Term Gpa' numeric   \n",
              "\n",
              "                                    2                        3   \\\n",
              "Student Data  Second Term Gpa' numeric  First Language' numeric   \n",
              "\n",
              "                            4               5                  6   \\\n",
              "Student Data   Funding numeric  School numeric  FastTrack numeric   \n",
              "\n",
              "                        7                   8               9   \\\n",
              "Student Data  Coop numeric   Residency numeric  Gender numeric   \n",
              "\n",
              "                                       10                  11  \\\n",
              "Student Data  Previous Education' numeric  Age Group' numeric   \n",
              "\n",
              "                                             12                   13  \\\n",
              "Student Data  High School Average Mark' numeric  Math Score' numeric   \n",
              "\n",
              "                                  14   15                  16  \\\n",
              "Student Data  English Grade' numeric  NaN  Dependent variable   \n",
              "\n",
              "                                      17  \n",
              "Student Data  FirstYearPersistence {1,0}  "
            ]
          },
          "execution_count": 2,
          "metadata": {},
          "output_type": "execute_result"
        }
      ],
      "source": [
        "colum_names = pd.read_csv('https://raw.githubusercontent.com/ronaldsaenz88/COMP-258-group-ACDC/master/nn-model/Student%20data.csv', nrows=18).transpose().head(1)\n",
        "colum_names"
      ]
    },
    {
      "attachments": {},
      "cell_type": "markdown",
      "metadata": {},
      "source": [
        "Clean the column names"
      ]
    },
    {
      "cell_type": "code",
      "execution_count": null,
      "metadata": {
        "colab": {
          "base_uri": "https://localhost:8080/"
        },
        "id": "YGX5yME0kccH",
        "outputId": "7e13f4d0-fadd-48df-c8c2-e5fa99065b2e"
      },
      "outputs": [
        {
          "data": {
            "text/plain": [
              "['FirstTermGpa',\n",
              " 'SecondTermGpa',\n",
              " 'FirstLanguage',\n",
              " 'Funding',\n",
              " 'School',\n",
              " 'FastTrack',\n",
              " 'Coop',\n",
              " 'Residency',\n",
              " 'Gender',\n",
              " 'PreviousEducation',\n",
              " 'AgeGroup',\n",
              " 'HighSchoolAverageMark',\n",
              " 'MathScore',\n",
              " 'EnglishGrade',\n",
              " 'FirstYearPersistence']"
            ]
          },
          "execution_count": 3,
          "metadata": {},
          "output_type": "execute_result"
        }
      ],
      "source": [
        "colum_names=colum_names.drop(columns=[0,15,16])\n",
        "colum_names=colum_names.squeeze()\n",
        "colum_names=colum_names.str.replace('numeric', '', regex=True)\n",
        "colum_names=colum_names.str.replace('\\'', '', regex=True)\n",
        "colum_names=colum_names.str.replace(' ', '', regex=True)\n",
        "colum_names=colum_names.str.replace('\\{1,0\\}', '', regex=True)\n",
        "colum_names = list(colum_names)\n",
        "colum_names"
      ]
    },
    {
      "attachments": {},
      "cell_type": "markdown",
      "metadata": {},
      "source": [
        "Define class names"
      ]
    },
    {
      "cell_type": "code",
      "execution_count": null,
      "metadata": {
        "id": "NjBSGmnLoUFl"
      },
      "outputs": [],
      "source": [
        "# Class Names\n",
        "class_names = ['FirstTermGpa', 'SecondTermGpa', 'FirstLanguage', 'Funding', 'School', 'FastTrack', 'Coop', 'Residency', 'Gender', 'PreviousEducation', 'AgeGroup', 'HighSchoolAverageMark', 'MathScore', 'EnglishGrade', 'FirstYearPersistence']\n",
        "class_names_categorical = ['FirstLanguage', 'Funding', 'School', 'FastTrack', 'Coop', 'Residency', 'Gender', 'PreviousEducation', 'AgeGroup']\n",
        "class_names_numerical = ['FirstTermGpa', 'SecondTermGpa', 'HighSchoolAverageMark', 'MathScore', 'EnglishGrade']\n",
        "label_dict = {'FirstYearPersistence_no': 0, 'FirstYearPersistence_yes': 1}"
      ]
    },
    {
      "attachments": {},
      "cell_type": "markdown",
      "metadata": {},
      "source": [
        "Load the data using pandas dataframe"
      ]
    },
    {
      "cell_type": "code",
      "execution_count": null,
      "metadata": {
        "colab": {
          "base_uri": "https://localhost:8080/",
          "height": 424
        },
        "id": "itKJxaa0kg5f",
        "outputId": "7a8331f5-37fe-423a-ca36-881ef83f5873"
      },
      "outputs": [
        {
          "data": {
            "text/html": [
              "\n",
              "  <div id=\"df-f04aa236-25dc-49bc-bc2f-54a977e5ce6c\">\n",
              "    <div class=\"colab-df-container\">\n",
              "      <div>\n",
              "<style scoped>\n",
              "    .dataframe tbody tr th:only-of-type {\n",
              "        vertical-align: middle;\n",
              "    }\n",
              "\n",
              "    .dataframe tbody tr th {\n",
              "        vertical-align: top;\n",
              "    }\n",
              "\n",
              "    .dataframe thead th {\n",
              "        text-align: right;\n",
              "    }\n",
              "</style>\n",
              "<table border=\"1\" class=\"dataframe\">\n",
              "  <thead>\n",
              "    <tr style=\"text-align: right;\">\n",
              "      <th></th>\n",
              "      <th>FirstTermGpa</th>\n",
              "      <th>SecondTermGpa</th>\n",
              "      <th>FirstLanguage</th>\n",
              "      <th>Funding</th>\n",
              "      <th>School</th>\n",
              "      <th>FastTrack</th>\n",
              "      <th>Coop</th>\n",
              "      <th>Residency</th>\n",
              "      <th>Gender</th>\n",
              "      <th>PreviousEducation</th>\n",
              "      <th>AgeGroup</th>\n",
              "      <th>HighSchoolAverageMark</th>\n",
              "      <th>MathScore</th>\n",
              "      <th>EnglishGrade</th>\n",
              "      <th>FirstYearPersistence</th>\n",
              "    </tr>\n",
              "  </thead>\n",
              "  <tbody>\n",
              "    <tr>\n",
              "      <th>0</th>\n",
              "      <td>0</td>\n",
              "      <td>0</td>\n",
              "      <td>1</td>\n",
              "      <td>2</td>\n",
              "      <td>6</td>\n",
              "      <td>2</td>\n",
              "      <td>1</td>\n",
              "      <td>1</td>\n",
              "      <td>2</td>\n",
              "      <td>1</td>\n",
              "      <td>1</td>\n",
              "      <td>59</td>\n",
              "      <td>16</td>\n",
              "      <td>7</td>\n",
              "      <td>1</td>\n",
              "    </tr>\n",
              "    <tr>\n",
              "      <th>1</th>\n",
              "      <td>2.5</td>\n",
              "      <td>2</td>\n",
              "      <td>3</td>\n",
              "      <td>4</td>\n",
              "      <td>6</td>\n",
              "      <td>1</td>\n",
              "      <td>2</td>\n",
              "      <td>2</td>\n",
              "      <td>2</td>\n",
              "      <td>1</td>\n",
              "      <td>3</td>\n",
              "      <td>NaN</td>\n",
              "      <td>NaN</td>\n",
              "      <td>7</td>\n",
              "      <td>1</td>\n",
              "    </tr>\n",
              "    <tr>\n",
              "      <th>2</th>\n",
              "      <td>4.25</td>\n",
              "      <td>3.923077</td>\n",
              "      <td>1</td>\n",
              "      <td>1</td>\n",
              "      <td>6</td>\n",
              "      <td>2</td>\n",
              "      <td>1</td>\n",
              "      <td>1</td>\n",
              "      <td>1</td>\n",
              "      <td>2</td>\n",
              "      <td>3</td>\n",
              "      <td>92</td>\n",
              "      <td>41</td>\n",
              "      <td>9</td>\n",
              "      <td>1</td>\n",
              "    </tr>\n",
              "    <tr>\n",
              "      <th>3</th>\n",
              "      <td>3.020833</td>\n",
              "      <td>2.321429</td>\n",
              "      <td>3</td>\n",
              "      <td>4</td>\n",
              "      <td>6</td>\n",
              "      <td>1</td>\n",
              "      <td>2</td>\n",
              "      <td>2</td>\n",
              "      <td>2</td>\n",
              "      <td>2</td>\n",
              "      <td>3</td>\n",
              "      <td>NaN</td>\n",
              "      <td>NaN</td>\n",
              "      <td>8</td>\n",
              "      <td>1</td>\n",
              "    </tr>\n",
              "    <tr>\n",
              "      <th>4</th>\n",
              "      <td>4.275</td>\n",
              "      <td>4.326923</td>\n",
              "      <td>1</td>\n",
              "      <td>2</td>\n",
              "      <td>6</td>\n",
              "      <td>1</td>\n",
              "      <td>1</td>\n",
              "      <td>1</td>\n",
              "      <td>1</td>\n",
              "      <td>2</td>\n",
              "      <td>3</td>\n",
              "      <td>97</td>\n",
              "      <td>NaN</td>\n",
              "      <td>9</td>\n",
              "      <td>1</td>\n",
              "    </tr>\n",
              "    <tr>\n",
              "      <th>...</th>\n",
              "      <td>...</td>\n",
              "      <td>...</td>\n",
              "      <td>...</td>\n",
              "      <td>...</td>\n",
              "      <td>...</td>\n",
              "      <td>...</td>\n",
              "      <td>...</td>\n",
              "      <td>...</td>\n",
              "      <td>...</td>\n",
              "      <td>...</td>\n",
              "      <td>...</td>\n",
              "      <td>...</td>\n",
              "      <td>...</td>\n",
              "      <td>...</td>\n",
              "      <td>...</td>\n",
              "    </tr>\n",
              "    <tr>\n",
              "      <th>1432</th>\n",
              "      <td>1.413043</td>\n",
              "      <td>0</td>\n",
              "      <td>NaN</td>\n",
              "      <td>4</td>\n",
              "      <td>6</td>\n",
              "      <td>2</td>\n",
              "      <td>2</td>\n",
              "      <td>2</td>\n",
              "      <td>2</td>\n",
              "      <td>1</td>\n",
              "      <td>1</td>\n",
              "      <td>NaN</td>\n",
              "      <td>47</td>\n",
              "      <td>10</td>\n",
              "      <td>0</td>\n",
              "    </tr>\n",
              "    <tr>\n",
              "      <th>1433</th>\n",
              "      <td>4.36</td>\n",
              "      <td>4.074074</td>\n",
              "      <td>1</td>\n",
              "      <td>2</td>\n",
              "      <td>6</td>\n",
              "      <td>1</td>\n",
              "      <td>1</td>\n",
              "      <td>1</td>\n",
              "      <td>1</td>\n",
              "      <td>2</td>\n",
              "      <td>4</td>\n",
              "      <td>NaN</td>\n",
              "      <td>NaN</td>\n",
              "      <td>10</td>\n",
              "      <td>1</td>\n",
              "    </tr>\n",
              "    <tr>\n",
              "      <th>1434</th>\n",
              "      <td>2.020833</td>\n",
              "      <td>2.45</td>\n",
              "      <td>1</td>\n",
              "      <td>2</td>\n",
              "      <td>6</td>\n",
              "      <td>2</td>\n",
              "      <td>1</td>\n",
              "      <td>1</td>\n",
              "      <td>2</td>\n",
              "      <td>1</td>\n",
              "      <td>1</td>\n",
              "      <td>78</td>\n",
              "      <td>18</td>\n",
              "      <td>9</td>\n",
              "      <td>1</td>\n",
              "    </tr>\n",
              "    <tr>\n",
              "      <th>1435</th>\n",
              "      <td>4.021739</td>\n",
              "      <td>4.357143</td>\n",
              "      <td>NaN</td>\n",
              "      <td>4</td>\n",
              "      <td>6</td>\n",
              "      <td>2</td>\n",
              "      <td>1</td>\n",
              "      <td>2</td>\n",
              "      <td>1</td>\n",
              "      <td>1</td>\n",
              "      <td>2</td>\n",
              "      <td>NaN</td>\n",
              "      <td>46</td>\n",
              "      <td>8</td>\n",
              "      <td>1</td>\n",
              "    </tr>\n",
              "    <tr>\n",
              "      <th>1436</th>\n",
              "      <td>2.133333</td>\n",
              "      <td>3.205882</td>\n",
              "      <td>1</td>\n",
              "      <td>2</td>\n",
              "      <td>6</td>\n",
              "      <td>2</td>\n",
              "      <td>2</td>\n",
              "      <td>1</td>\n",
              "      <td>1</td>\n",
              "      <td>1</td>\n",
              "      <td>1</td>\n",
              "      <td>81</td>\n",
              "      <td>27</td>\n",
              "      <td>9</td>\n",
              "      <td>1</td>\n",
              "    </tr>\n",
              "  </tbody>\n",
              "</table>\n",
              "<p>1437 rows × 15 columns</p>\n",
              "</div>\n",
              "      <button class=\"colab-df-convert\" onclick=\"convertToInteractive('df-f04aa236-25dc-49bc-bc2f-54a977e5ce6c')\"\n",
              "              title=\"Convert this dataframe to an interactive table.\"\n",
              "              style=\"display:none;\">\n",
              "        \n",
              "  <svg xmlns=\"http://www.w3.org/2000/svg\" height=\"24px\"viewBox=\"0 0 24 24\"\n",
              "       width=\"24px\">\n",
              "    <path d=\"M0 0h24v24H0V0z\" fill=\"none\"/>\n",
              "    <path d=\"M18.56 5.44l.94 2.06.94-2.06 2.06-.94-2.06-.94-.94-2.06-.94 2.06-2.06.94zm-11 1L8.5 8.5l.94-2.06 2.06-.94-2.06-.94L8.5 2.5l-.94 2.06-2.06.94zm10 10l.94 2.06.94-2.06 2.06-.94-2.06-.94-.94-2.06-.94 2.06-2.06.94z\"/><path d=\"M17.41 7.96l-1.37-1.37c-.4-.4-.92-.59-1.43-.59-.52 0-1.04.2-1.43.59L10.3 9.45l-7.72 7.72c-.78.78-.78 2.05 0 2.83L4 21.41c.39.39.9.59 1.41.59.51 0 1.02-.2 1.41-.59l7.78-7.78 2.81-2.81c.8-.78.8-2.07 0-2.86zM5.41 20L4 18.59l7.72-7.72 1.47 1.35L5.41 20z\"/>\n",
              "  </svg>\n",
              "      </button>\n",
              "      \n",
              "  <style>\n",
              "    .colab-df-container {\n",
              "      display:flex;\n",
              "      flex-wrap:wrap;\n",
              "      gap: 12px;\n",
              "    }\n",
              "\n",
              "    .colab-df-convert {\n",
              "      background-color: #E8F0FE;\n",
              "      border: none;\n",
              "      border-radius: 50%;\n",
              "      cursor: pointer;\n",
              "      display: none;\n",
              "      fill: #1967D2;\n",
              "      height: 32px;\n",
              "      padding: 0 0 0 0;\n",
              "      width: 32px;\n",
              "    }\n",
              "\n",
              "    .colab-df-convert:hover {\n",
              "      background-color: #E2EBFA;\n",
              "      box-shadow: 0px 1px 2px rgba(60, 64, 67, 0.3), 0px 1px 3px 1px rgba(60, 64, 67, 0.15);\n",
              "      fill: #174EA6;\n",
              "    }\n",
              "\n",
              "    [theme=dark] .colab-df-convert {\n",
              "      background-color: #3B4455;\n",
              "      fill: #D2E3FC;\n",
              "    }\n",
              "\n",
              "    [theme=dark] .colab-df-convert:hover {\n",
              "      background-color: #434B5C;\n",
              "      box-shadow: 0px 1px 3px 1px rgba(0, 0, 0, 0.15);\n",
              "      filter: drop-shadow(0px 1px 2px rgba(0, 0, 0, 0.3));\n",
              "      fill: #FFFFFF;\n",
              "    }\n",
              "  </style>\n",
              "\n",
              "      <script>\n",
              "        const buttonEl =\n",
              "          document.querySelector('#df-f04aa236-25dc-49bc-bc2f-54a977e5ce6c button.colab-df-convert');\n",
              "        buttonEl.style.display =\n",
              "          google.colab.kernel.accessAllowed ? 'block' : 'none';\n",
              "\n",
              "        async function convertToInteractive(key) {\n",
              "          const element = document.querySelector('#df-f04aa236-25dc-49bc-bc2f-54a977e5ce6c');\n",
              "          const dataTable =\n",
              "            await google.colab.kernel.invokeFunction('convertToInteractive',\n",
              "                                                     [key], {});\n",
              "          if (!dataTable) return;\n",
              "\n",
              "          const docLinkHtml = 'Like what you see? Visit the ' +\n",
              "            '<a target=\"_blank\" href=https://colab.research.google.com/notebooks/data_table.ipynb>data table notebook</a>'\n",
              "            + ' to learn more about interactive tables.';\n",
              "          element.innerHTML = '';\n",
              "          dataTable['output_type'] = 'display_data';\n",
              "          await google.colab.output.renderOutput(dataTable, element);\n",
              "          const docLink = document.createElement('div');\n",
              "          docLink.innerHTML = docLinkHtml;\n",
              "          element.appendChild(docLink);\n",
              "        }\n",
              "      </script>\n",
              "    </div>\n",
              "  </div>\n",
              "  "
            ],
            "text/plain": [
              "     FirstTermGpa SecondTermGpa FirstLanguage  Funding  School  FastTrack  \\\n",
              "0               0             0             1        2       6          2   \n",
              "1             2.5             2             3        4       6          1   \n",
              "2            4.25      3.923077             1        1       6          2   \n",
              "3        3.020833      2.321429             3        4       6          1   \n",
              "4           4.275      4.326923             1        2       6          1   \n",
              "...           ...           ...           ...      ...     ...        ...   \n",
              "1432     1.413043             0           NaN        4       6          2   \n",
              "1433         4.36      4.074074             1        2       6          1   \n",
              "1434     2.020833          2.45             1        2       6          2   \n",
              "1435     4.021739      4.357143           NaN        4       6          2   \n",
              "1436     2.133333      3.205882             1        2       6          2   \n",
              "\n",
              "      Coop  Residency  Gender PreviousEducation AgeGroup  \\\n",
              "0        1          1       2                 1        1   \n",
              "1        2          2       2                 1        3   \n",
              "2        1          1       1                 2        3   \n",
              "3        2          2       2                 2        3   \n",
              "4        1          1       1                 2        3   \n",
              "...    ...        ...     ...               ...      ...   \n",
              "1432     2          2       2                 1        1   \n",
              "1433     1          1       1                 2        4   \n",
              "1434     1          1       2                 1        1   \n",
              "1435     1          2       1                 1        2   \n",
              "1436     2          1       1                 1        1   \n",
              "\n",
              "     HighSchoolAverageMark MathScore EnglishGrade  FirstYearPersistence  \n",
              "0                       59        16            7                     1  \n",
              "1                      NaN       NaN            7                     1  \n",
              "2                       92        41            9                     1  \n",
              "3                      NaN       NaN            8                     1  \n",
              "4                       97       NaN            9                     1  \n",
              "...                    ...       ...          ...                   ...  \n",
              "1432                   NaN        47           10                     0  \n",
              "1433                   NaN       NaN           10                     1  \n",
              "1434                    78        18            9                     1  \n",
              "1435                   NaN        46            8                     1  \n",
              "1436                    81        27            9                     1  \n",
              "\n",
              "[1437 rows x 15 columns]"
            ]
          },
          "execution_count": 5,
          "metadata": {},
          "output_type": "execute_result"
        }
      ],
      "source": [
        "students_ds = pd.read_csv('https://raw.githubusercontent.com/ronaldsaenz88/COMP-258-group-ACDC/master/nn-model/Student%20data.csv',skiprows=24, names=colum_names)\n",
        "students_ds = students_ds.replace('?', np.nan)\n",
        "students_ds"
      ]
    },
    {
      "attachments": {},
      "cell_type": "markdown",
      "metadata": {},
      "source": [
        "Change the datatype of the dataframe"
      ]
    },
    {
      "cell_type": "code",
      "execution_count": null,
      "metadata": {
        "colab": {
          "base_uri": "https://localhost:8080/"
        },
        "id": "WWAs_NqckkXW",
        "outputId": "9c9ffcf3-63ff-4c44-f5e5-54c6430fec98"
      },
      "outputs": [
        {
          "data": {
            "text/plain": [
              "FirstTermGpa             float64\n",
              "SecondTermGpa            float64\n",
              "FirstLanguage            float64\n",
              "Funding                  float64\n",
              "School                   float64\n",
              "FastTrack                float64\n",
              "Coop                     float64\n",
              "Residency                float64\n",
              "Gender                   float64\n",
              "PreviousEducation        float64\n",
              "AgeGroup                 float64\n",
              "HighSchoolAverageMark    float64\n",
              "MathScore                float64\n",
              "EnglishGrade             float64\n",
              "FirstYearPersistence     float64\n",
              "dtype: object"
            ]
          },
          "execution_count": 6,
          "metadata": {},
          "output_type": "execute_result"
        }
      ],
      "source": [
        "students_ds=students_ds.astype('float64')\n",
        "students_ds.dtypes"
      ]
    },
    {
      "attachments": {},
      "cell_type": "markdown",
      "metadata": {},
      "source": [
        "Get stats from dataframe (Mean, Mode and Standard Deviation)"
      ]
    },
    {
      "cell_type": "code",
      "execution_count": null,
      "metadata": {},
      "outputs": [],
      "source": [
        "scaler = StandardScaler()\n",
        "scaler.fit(students_ds)\n",
        "ds_mean = scaler.mean_\n",
        "ds_mode = np.array(students_ds.mode())[0]\n",
        "ds_std = scaler.scale_"
      ]
    },
    {
      "cell_type": "code",
      "execution_count": null,
      "metadata": {
        "colab": {
          "base_uri": "https://localhost:8080/"
        },
        "id": "IozBq4xck1WI",
        "outputId": "8b259796-d3be-4295-c500-9ee9927eeb70"
      },
      "outputs": [
        {
          "data": {
            "text/plain": [
              "array([ 0.,  0.,  1.,  2.,  6.,  2.,  2.,  1.,  2.,  1.,  3., 78., 48.,\n",
              "        9.,  1.])"
            ]
          },
          "execution_count": 12,
          "metadata": {},
          "output_type": "execute_result"
        }
      ],
      "source": [
        "ds_mode\n"
      ]
    },
    {
      "cell_type": "code",
      "execution_count": null,
      "metadata": {
        "colab": {
          "base_uri": "https://localhost:8080/"
        },
        "id": "gzv6wIPsk71N",
        "outputId": "c077d789-442c-4dda-b597-10eb3cd83726"
      },
      "outputs": [
        {
          "data": {
            "text/plain": [
              "array([ 2.8460731 ,  2.82017558,  1.91101056,  2.92693111,  6.        ,\n",
              "        1.74182324,  1.69519833,  1.40640223,  1.77453027,  1.27494766,\n",
              "        2.63154222, 77.15273775, 32.55794872,  8.03017241,  0.79192763])"
            ]
          },
          "execution_count": 14,
          "metadata": {},
          "output_type": "execute_result"
        }
      ],
      "source": [
        "ds_mean"
      ]
    },
    {
      "cell_type": "code",
      "execution_count": null,
      "metadata": {
        "colab": {
          "base_uri": "https://localhost:8080/"
        },
        "id": "2AMFx2NIk2BG",
        "outputId": "394fb371-e9bf-4d50-9eb7-18677f443145"
      },
      "outputs": [
        {
          "data": {
            "text/plain": [
              "array([ 1.17468368,  1.1281897 ,  0.99451711,  1.25722069,  1.        ,\n",
              "        0.43763172,  0.46032338,  0.49116133,  0.41955324,  0.56760083,\n",
              "        1.42097101, 12.06405871, 10.70396408,  1.71553349,  0.40592889])"
            ]
          },
          "execution_count": 13,
          "metadata": {},
          "output_type": "execute_result"
        }
      ],
      "source": [
        "ds_std"
      ]
    },
    {
      "attachments": {},
      "cell_type": "markdown",
      "metadata": {},
      "source": [
        "Define Features Columns to use in Tensorflow"
      ]
    },
    {
      "cell_type": "code",
      "execution_count": null,
      "metadata": {
        "colab": {
          "base_uri": "https://localhost:8080/"
        },
        "id": "S_2A3-ldklx2",
        "outputId": "215f2857-91c2-4d10-a8a4-d3cdbcc2ef4e"
      },
      "outputs": [
        {
          "name": "stderr",
          "output_type": "stream",
          "text": [
            "WARNING:tensorflow:From <ipython-input-7-db6ed388b87e>:3: numeric_column (from tensorflow.python.feature_column.feature_column_v2) is deprecated and will be removed in a future version.\n",
            "Instructions for updating:\n",
            "Use Keras preprocessing layers instead, either directly or via the `tf.keras.utils.FeatureSpace` utility. Each of `tf.feature_column.*` has a functional equivalent in `tf.keras.layers` for feature preprocessing when training a Keras model.\n",
            "WARNING:tensorflow:From <ipython-input-7-db6ed388b87e>:5: categorical_column_with_identity (from tensorflow.python.feature_column.feature_column_v2) is deprecated and will be removed in a future version.\n",
            "Instructions for updating:\n",
            "Use Keras preprocessing layers instead, either directly or via the `tf.keras.utils.FeatureSpace` utility. Each of `tf.feature_column.*` has a functional equivalent in `tf.keras.layers` for feature preprocessing when training a Keras model.\n"
          ]
        }
      ],
      "source": [
        "# Define feature columns\n",
        "feature_columns = [\n",
        "    tf.feature_column.numeric_column(\"FirstTermGpa\"),\n",
        "    tf.feature_column.numeric_column(\"SecondTermGpa\"),\n",
        "    tf.feature_column.categorical_column_with_identity(\"FirstLanguage\", num_buckets=3),\n",
        "    tf.feature_column.categorical_column_with_identity(\"Funding\", num_buckets=9),\n",
        "    tf.feature_column.categorical_column_with_identity(\"School\", num_buckets=6),\n",
        "    tf.feature_column.categorical_column_with_identity(\"FastTrack\", num_buckets=2),\n",
        "    tf.feature_column.categorical_column_with_identity(\"Coop\", num_buckets=2),\n",
        "    tf.feature_column.categorical_column_with_identity(\"Residency\", num_buckets=2),\n",
        "    tf.feature_column.categorical_column_with_identity(\"Gender\", num_buckets=2),\n",
        "    tf.feature_column.categorical_column_with_identity(\"PreviousEducation\", num_buckets=3),\n",
        "    tf.feature_column.categorical_column_with_identity(\"AgeGroup\", num_buckets=8),\n",
        "    tf.feature_column.numeric_column(\"HighSchoolAverageMark\"),\n",
        "    tf.feature_column.numeric_column(\"MathScore\"),\n",
        "    tf.feature_column.numeric_column(\"EnglishGrade\")\n",
        "]"
      ]
    },
    {
      "attachments": {},
      "cell_type": "markdown",
      "metadata": {},
      "source": [
        "Convert the dataframe to Dataset in Tensor"
      ]
    },
    {
      "cell_type": "code",
      "execution_count": null,
      "metadata": {
        "colab": {
          "base_uri": "https://localhost:8080/"
        },
        "id": "j2Xu1Qj6krCF",
        "outputId": "869a8054-025c-4a19-f85e-ce5b6eb8de9d"
      },
      "outputs": [
        {
          "data": {
            "text/plain": [
              "<_TensorSliceDataset element_spec={'FirstTermGpa': TensorSpec(shape=(), dtype=tf.float64, name=None), 'SecondTermGpa': TensorSpec(shape=(), dtype=tf.float64, name=None), 'FirstLanguage': TensorSpec(shape=(), dtype=tf.float64, name=None), 'Funding': TensorSpec(shape=(), dtype=tf.float64, name=None), 'School': TensorSpec(shape=(), dtype=tf.float64, name=None), 'FastTrack': TensorSpec(shape=(), dtype=tf.float64, name=None), 'Coop': TensorSpec(shape=(), dtype=tf.float64, name=None), 'Residency': TensorSpec(shape=(), dtype=tf.float64, name=None), 'Gender': TensorSpec(shape=(), dtype=tf.float64, name=None), 'PreviousEducation': TensorSpec(shape=(), dtype=tf.float64, name=None), 'AgeGroup': TensorSpec(shape=(), dtype=tf.float64, name=None), 'HighSchoolAverageMark': TensorSpec(shape=(), dtype=tf.float64, name=None), 'MathScore': TensorSpec(shape=(), dtype=tf.float64, name=None), 'EnglishGrade': TensorSpec(shape=(), dtype=tf.float64, name=None), 'FirstYearPersistence': TensorSpec(shape=(), dtype=tf.float64, name=None)}>"
            ]
          },
          "execution_count": 8,
          "metadata": {},
          "output_type": "execute_result"
        }
      ],
      "source": [
        "tensor = tf.convert_to_tensor(students_ds.values)\n",
        "ds = tf.data.Dataset.from_tensor_slices(dict(students_ds))\n",
        "ds"
      ]
    },
    {
      "cell_type": "code",
      "execution_count": null,
      "metadata": {
        "id": "A8rYvCeiDO5n"
      },
      "outputs": [],
      "source": [
        "np.random.seed(42)\n",
        "tf.random.set_seed(42)"
      ]
    },
    {
      "attachments": {},
      "cell_type": "markdown",
      "metadata": {},
      "source": [
        "Preprocessing function to replace NaN values with mean/mode"
      ]
    },
    {
      "cell_type": "code",
      "execution_count": null,
      "metadata": {
        "id": "F62cAXUBkt-9"
      },
      "outputs": [],
      "source": [
        "# Define a function to replace NaN values with the column mean\n",
        "def preprocess(features):\n",
        "    for feature_name, feature_value in features.items():\n",
        "        # Replace NaN values with mean using TensorFlow API\n",
        "        if feature_name in class_names_numerical:\n",
        "                mean = ds_mean[colum_names.index(feature_name)] \n",
        "                std = ds_std[colum_names.index(feature_name)]\n",
        "                features[feature_name] = tf.where(tf.math.is_nan(feature_value),mean, feature_value)\n",
        "                #features[feature_name] = (features[feature_name] - mean) / std\n",
        "\n",
        "        # Replace NaN values with mode using TensorFlow API\n",
        "        if feature_name in class_names_categorical:\n",
        "                mode = ds_mode[colum_names.index(feature_name)]\n",
        "                features[feature_name] = tf.where(tf.math.is_nan(feature_value),mode, feature_value)\n",
        "\n",
        "    return features"
      ]
    },
    {
      "attachments": {},
      "cell_type": "markdown",
      "metadata": {},
      "source": [
        "Apply the preprocessing function into the dataset"
      ]
    },
    {
      "cell_type": "code",
      "execution_count": null,
      "metadata": {
        "id": "2lNLB0d1kw6w"
      },
      "outputs": [],
      "source": [
        "# Apply the transformation function to the dataset\n",
        "ds = ds.map(preprocess)"
      ]
    },
    {
      "attachments": {},
      "cell_type": "markdown",
      "metadata": {},
      "source": [
        "Show the new dataset using panda dataframe"
      ]
    },
    {
      "cell_type": "code",
      "execution_count": null,
      "metadata": {
        "colab": {
          "base_uri": "https://localhost:8080/",
          "height": 424
        },
        "id": "5SUM4R0Xk-EX",
        "outputId": "42594704-af9d-49c4-a00c-91fe73ff78d1"
      },
      "outputs": [
        {
          "data": {
            "text/html": [
              "\n",
              "  <div id=\"df-709755db-4b99-4928-8b24-df0b0a966903\">\n",
              "    <div class=\"colab-df-container\">\n",
              "      <div>\n",
              "<style scoped>\n",
              "    .dataframe tbody tr th:only-of-type {\n",
              "        vertical-align: middle;\n",
              "    }\n",
              "\n",
              "    .dataframe tbody tr th {\n",
              "        vertical-align: top;\n",
              "    }\n",
              "\n",
              "    .dataframe thead th {\n",
              "        text-align: right;\n",
              "    }\n",
              "</style>\n",
              "<table border=\"1\" class=\"dataframe\">\n",
              "  <thead>\n",
              "    <tr style=\"text-align: right;\">\n",
              "      <th></th>\n",
              "      <th>FirstTermGpa</th>\n",
              "      <th>SecondTermGpa</th>\n",
              "      <th>FirstLanguage</th>\n",
              "      <th>Funding</th>\n",
              "      <th>School</th>\n",
              "      <th>FastTrack</th>\n",
              "      <th>Coop</th>\n",
              "      <th>Residency</th>\n",
              "      <th>Gender</th>\n",
              "      <th>PreviousEducation</th>\n",
              "      <th>AgeGroup</th>\n",
              "      <th>HighSchoolAverageMark</th>\n",
              "      <th>MathScore</th>\n",
              "      <th>EnglishGrade</th>\n",
              "      <th>FirstYearPersistence</th>\n",
              "    </tr>\n",
              "  </thead>\n",
              "  <tbody>\n",
              "    <tr>\n",
              "      <th>0</th>\n",
              "      <td>0.000000</td>\n",
              "      <td>0.000000</td>\n",
              "      <td>1.0</td>\n",
              "      <td>2.0</td>\n",
              "      <td>6.0</td>\n",
              "      <td>2.0</td>\n",
              "      <td>1.0</td>\n",
              "      <td>1.0</td>\n",
              "      <td>2.0</td>\n",
              "      <td>1.0</td>\n",
              "      <td>1.0</td>\n",
              "      <td>59.000000</td>\n",
              "      <td>16.000000</td>\n",
              "      <td>7.0</td>\n",
              "      <td>1.0</td>\n",
              "    </tr>\n",
              "    <tr>\n",
              "      <th>1</th>\n",
              "      <td>2.500000</td>\n",
              "      <td>2.000000</td>\n",
              "      <td>3.0</td>\n",
              "      <td>4.0</td>\n",
              "      <td>6.0</td>\n",
              "      <td>1.0</td>\n",
              "      <td>2.0</td>\n",
              "      <td>2.0</td>\n",
              "      <td>2.0</td>\n",
              "      <td>1.0</td>\n",
              "      <td>3.0</td>\n",
              "      <td>77.152738</td>\n",
              "      <td>32.557949</td>\n",
              "      <td>7.0</td>\n",
              "      <td>1.0</td>\n",
              "    </tr>\n",
              "    <tr>\n",
              "      <th>2</th>\n",
              "      <td>4.250000</td>\n",
              "      <td>3.923077</td>\n",
              "      <td>1.0</td>\n",
              "      <td>1.0</td>\n",
              "      <td>6.0</td>\n",
              "      <td>2.0</td>\n",
              "      <td>1.0</td>\n",
              "      <td>1.0</td>\n",
              "      <td>1.0</td>\n",
              "      <td>2.0</td>\n",
              "      <td>3.0</td>\n",
              "      <td>92.000000</td>\n",
              "      <td>41.000000</td>\n",
              "      <td>9.0</td>\n",
              "      <td>1.0</td>\n",
              "    </tr>\n",
              "    <tr>\n",
              "      <th>3</th>\n",
              "      <td>3.020833</td>\n",
              "      <td>2.321429</td>\n",
              "      <td>3.0</td>\n",
              "      <td>4.0</td>\n",
              "      <td>6.0</td>\n",
              "      <td>1.0</td>\n",
              "      <td>2.0</td>\n",
              "      <td>2.0</td>\n",
              "      <td>2.0</td>\n",
              "      <td>2.0</td>\n",
              "      <td>3.0</td>\n",
              "      <td>77.152738</td>\n",
              "      <td>32.557949</td>\n",
              "      <td>8.0</td>\n",
              "      <td>1.0</td>\n",
              "    </tr>\n",
              "    <tr>\n",
              "      <th>4</th>\n",
              "      <td>4.275000</td>\n",
              "      <td>4.326923</td>\n",
              "      <td>1.0</td>\n",
              "      <td>2.0</td>\n",
              "      <td>6.0</td>\n",
              "      <td>1.0</td>\n",
              "      <td>1.0</td>\n",
              "      <td>1.0</td>\n",
              "      <td>1.0</td>\n",
              "      <td>2.0</td>\n",
              "      <td>3.0</td>\n",
              "      <td>97.000000</td>\n",
              "      <td>32.557949</td>\n",
              "      <td>9.0</td>\n",
              "      <td>1.0</td>\n",
              "    </tr>\n",
              "    <tr>\n",
              "      <th>...</th>\n",
              "      <td>...</td>\n",
              "      <td>...</td>\n",
              "      <td>...</td>\n",
              "      <td>...</td>\n",
              "      <td>...</td>\n",
              "      <td>...</td>\n",
              "      <td>...</td>\n",
              "      <td>...</td>\n",
              "      <td>...</td>\n",
              "      <td>...</td>\n",
              "      <td>...</td>\n",
              "      <td>...</td>\n",
              "      <td>...</td>\n",
              "      <td>...</td>\n",
              "      <td>...</td>\n",
              "    </tr>\n",
              "    <tr>\n",
              "      <th>1432</th>\n",
              "      <td>1.413043</td>\n",
              "      <td>0.000000</td>\n",
              "      <td>1.0</td>\n",
              "      <td>4.0</td>\n",
              "      <td>6.0</td>\n",
              "      <td>2.0</td>\n",
              "      <td>2.0</td>\n",
              "      <td>2.0</td>\n",
              "      <td>2.0</td>\n",
              "      <td>1.0</td>\n",
              "      <td>1.0</td>\n",
              "      <td>77.152738</td>\n",
              "      <td>47.000000</td>\n",
              "      <td>10.0</td>\n",
              "      <td>0.0</td>\n",
              "    </tr>\n",
              "    <tr>\n",
              "      <th>1433</th>\n",
              "      <td>4.360000</td>\n",
              "      <td>4.074074</td>\n",
              "      <td>1.0</td>\n",
              "      <td>2.0</td>\n",
              "      <td>6.0</td>\n",
              "      <td>1.0</td>\n",
              "      <td>1.0</td>\n",
              "      <td>1.0</td>\n",
              "      <td>1.0</td>\n",
              "      <td>2.0</td>\n",
              "      <td>4.0</td>\n",
              "      <td>77.152738</td>\n",
              "      <td>32.557949</td>\n",
              "      <td>10.0</td>\n",
              "      <td>1.0</td>\n",
              "    </tr>\n",
              "    <tr>\n",
              "      <th>1434</th>\n",
              "      <td>2.020833</td>\n",
              "      <td>2.450000</td>\n",
              "      <td>1.0</td>\n",
              "      <td>2.0</td>\n",
              "      <td>6.0</td>\n",
              "      <td>2.0</td>\n",
              "      <td>1.0</td>\n",
              "      <td>1.0</td>\n",
              "      <td>2.0</td>\n",
              "      <td>1.0</td>\n",
              "      <td>1.0</td>\n",
              "      <td>78.000000</td>\n",
              "      <td>18.000000</td>\n",
              "      <td>9.0</td>\n",
              "      <td>1.0</td>\n",
              "    </tr>\n",
              "    <tr>\n",
              "      <th>1435</th>\n",
              "      <td>4.021739</td>\n",
              "      <td>4.357143</td>\n",
              "      <td>1.0</td>\n",
              "      <td>4.0</td>\n",
              "      <td>6.0</td>\n",
              "      <td>2.0</td>\n",
              "      <td>1.0</td>\n",
              "      <td>2.0</td>\n",
              "      <td>1.0</td>\n",
              "      <td>1.0</td>\n",
              "      <td>2.0</td>\n",
              "      <td>77.152738</td>\n",
              "      <td>46.000000</td>\n",
              "      <td>8.0</td>\n",
              "      <td>1.0</td>\n",
              "    </tr>\n",
              "    <tr>\n",
              "      <th>1436</th>\n",
              "      <td>2.133333</td>\n",
              "      <td>3.205882</td>\n",
              "      <td>1.0</td>\n",
              "      <td>2.0</td>\n",
              "      <td>6.0</td>\n",
              "      <td>2.0</td>\n",
              "      <td>2.0</td>\n",
              "      <td>1.0</td>\n",
              "      <td>1.0</td>\n",
              "      <td>1.0</td>\n",
              "      <td>1.0</td>\n",
              "      <td>81.000000</td>\n",
              "      <td>27.000000</td>\n",
              "      <td>9.0</td>\n",
              "      <td>1.0</td>\n",
              "    </tr>\n",
              "  </tbody>\n",
              "</table>\n",
              "<p>1437 rows × 15 columns</p>\n",
              "</div>\n",
              "      <button class=\"colab-df-convert\" onclick=\"convertToInteractive('df-709755db-4b99-4928-8b24-df0b0a966903')\"\n",
              "              title=\"Convert this dataframe to an interactive table.\"\n",
              "              style=\"display:none;\">\n",
              "        \n",
              "  <svg xmlns=\"http://www.w3.org/2000/svg\" height=\"24px\"viewBox=\"0 0 24 24\"\n",
              "       width=\"24px\">\n",
              "    <path d=\"M0 0h24v24H0V0z\" fill=\"none\"/>\n",
              "    <path d=\"M18.56 5.44l.94 2.06.94-2.06 2.06-.94-2.06-.94-.94-2.06-.94 2.06-2.06.94zm-11 1L8.5 8.5l.94-2.06 2.06-.94-2.06-.94L8.5 2.5l-.94 2.06-2.06.94zm10 10l.94 2.06.94-2.06 2.06-.94-2.06-.94-.94-2.06-.94 2.06-2.06.94z\"/><path d=\"M17.41 7.96l-1.37-1.37c-.4-.4-.92-.59-1.43-.59-.52 0-1.04.2-1.43.59L10.3 9.45l-7.72 7.72c-.78.78-.78 2.05 0 2.83L4 21.41c.39.39.9.59 1.41.59.51 0 1.02-.2 1.41-.59l7.78-7.78 2.81-2.81c.8-.78.8-2.07 0-2.86zM5.41 20L4 18.59l7.72-7.72 1.47 1.35L5.41 20z\"/>\n",
              "  </svg>\n",
              "      </button>\n",
              "      \n",
              "  <style>\n",
              "    .colab-df-container {\n",
              "      display:flex;\n",
              "      flex-wrap:wrap;\n",
              "      gap: 12px;\n",
              "    }\n",
              "\n",
              "    .colab-df-convert {\n",
              "      background-color: #E8F0FE;\n",
              "      border: none;\n",
              "      border-radius: 50%;\n",
              "      cursor: pointer;\n",
              "      display: none;\n",
              "      fill: #1967D2;\n",
              "      height: 32px;\n",
              "      padding: 0 0 0 0;\n",
              "      width: 32px;\n",
              "    }\n",
              "\n",
              "    .colab-df-convert:hover {\n",
              "      background-color: #E2EBFA;\n",
              "      box-shadow: 0px 1px 2px rgba(60, 64, 67, 0.3), 0px 1px 3px 1px rgba(60, 64, 67, 0.15);\n",
              "      fill: #174EA6;\n",
              "    }\n",
              "\n",
              "    [theme=dark] .colab-df-convert {\n",
              "      background-color: #3B4455;\n",
              "      fill: #D2E3FC;\n",
              "    }\n",
              "\n",
              "    [theme=dark] .colab-df-convert:hover {\n",
              "      background-color: #434B5C;\n",
              "      box-shadow: 0px 1px 3px 1px rgba(0, 0, 0, 0.15);\n",
              "      filter: drop-shadow(0px 1px 2px rgba(0, 0, 0, 0.3));\n",
              "      fill: #FFFFFF;\n",
              "    }\n",
              "  </style>\n",
              "\n",
              "      <script>\n",
              "        const buttonEl =\n",
              "          document.querySelector('#df-709755db-4b99-4928-8b24-df0b0a966903 button.colab-df-convert');\n",
              "        buttonEl.style.display =\n",
              "          google.colab.kernel.accessAllowed ? 'block' : 'none';\n",
              "\n",
              "        async function convertToInteractive(key) {\n",
              "          const element = document.querySelector('#df-709755db-4b99-4928-8b24-df0b0a966903');\n",
              "          const dataTable =\n",
              "            await google.colab.kernel.invokeFunction('convertToInteractive',\n",
              "                                                     [key], {});\n",
              "          if (!dataTable) return;\n",
              "\n",
              "          const docLinkHtml = 'Like what you see? Visit the ' +\n",
              "            '<a target=\"_blank\" href=https://colab.research.google.com/notebooks/data_table.ipynb>data table notebook</a>'\n",
              "            + ' to learn more about interactive tables.';\n",
              "          element.innerHTML = '';\n",
              "          dataTable['output_type'] = 'display_data';\n",
              "          await google.colab.output.renderOutput(dataTable, element);\n",
              "          const docLink = document.createElement('div');\n",
              "          docLink.innerHTML = docLinkHtml;\n",
              "          element.appendChild(docLink);\n",
              "        }\n",
              "      </script>\n",
              "    </div>\n",
              "  </div>\n",
              "  "
            ],
            "text/plain": [
              "      FirstTermGpa  SecondTermGpa  FirstLanguage  Funding  School  FastTrack  \\\n",
              "0         0.000000       0.000000            1.0      2.0     6.0        2.0   \n",
              "1         2.500000       2.000000            3.0      4.0     6.0        1.0   \n",
              "2         4.250000       3.923077            1.0      1.0     6.0        2.0   \n",
              "3         3.020833       2.321429            3.0      4.0     6.0        1.0   \n",
              "4         4.275000       4.326923            1.0      2.0     6.0        1.0   \n",
              "...            ...            ...            ...      ...     ...        ...   \n",
              "1432      1.413043       0.000000            1.0      4.0     6.0        2.0   \n",
              "1433      4.360000       4.074074            1.0      2.0     6.0        1.0   \n",
              "1434      2.020833       2.450000            1.0      2.0     6.0        2.0   \n",
              "1435      4.021739       4.357143            1.0      4.0     6.0        2.0   \n",
              "1436      2.133333       3.205882            1.0      2.0     6.0        2.0   \n",
              "\n",
              "      Coop  Residency  Gender  PreviousEducation  AgeGroup  \\\n",
              "0      1.0        1.0     2.0                1.0       1.0   \n",
              "1      2.0        2.0     2.0                1.0       3.0   \n",
              "2      1.0        1.0     1.0                2.0       3.0   \n",
              "3      2.0        2.0     2.0                2.0       3.0   \n",
              "4      1.0        1.0     1.0                2.0       3.0   \n",
              "...    ...        ...     ...                ...       ...   \n",
              "1432   2.0        2.0     2.0                1.0       1.0   \n",
              "1433   1.0        1.0     1.0                2.0       4.0   \n",
              "1434   1.0        1.0     2.0                1.0       1.0   \n",
              "1435   1.0        2.0     1.0                1.0       2.0   \n",
              "1436   2.0        1.0     1.0                1.0       1.0   \n",
              "\n",
              "      HighSchoolAverageMark  MathScore  EnglishGrade  FirstYearPersistence  \n",
              "0                 59.000000  16.000000           7.0                   1.0  \n",
              "1                 77.152738  32.557949           7.0                   1.0  \n",
              "2                 92.000000  41.000000           9.0                   1.0  \n",
              "3                 77.152738  32.557949           8.0                   1.0  \n",
              "4                 97.000000  32.557949           9.0                   1.0  \n",
              "...                     ...        ...           ...                   ...  \n",
              "1432              77.152738  47.000000          10.0                   0.0  \n",
              "1433              77.152738  32.557949          10.0                   1.0  \n",
              "1434              78.000000  18.000000           9.0                   1.0  \n",
              "1435              77.152738  46.000000           8.0                   1.0  \n",
              "1436              81.000000  27.000000           9.0                   1.0  \n",
              "\n",
              "[1437 rows x 15 columns]"
            ]
          },
          "execution_count": 15,
          "metadata": {},
          "output_type": "execute_result"
        }
      ],
      "source": [
        "# create a batch of data\n",
        "batch = next(iter(ds.batch(len(ds))))\n",
        "# create a pandas dataframe from the numpy array\n",
        "df = pd.DataFrame(batch, columns=colum_names)\n",
        "df"
      ]
    },
    {
      "cell_type": "code",
      "execution_count": null,
      "metadata": {
        "colab": {
          "base_uri": "https://localhost:8080/"
        },
        "id": "pSH-iNWNlAOt",
        "outputId": "3b8be9b0-5897-44ed-d06c-bbbb95486bfc"
      },
      "outputs": [
        {
          "data": {
            "text/plain": [
              "array([ 59.        ,  77.15273775,  92.        ,  97.        ,\n",
              "       101.        ,  68.        ,  79.        ,  98.        ,\n",
              "        78.        ,  73.        ,  81.        ,  95.        ,\n",
              "        80.        ,  85.        ,  83.        ,  60.        ,\n",
              "        76.        ,  87.        ,  82.        ,  74.        ,\n",
              "        88.        ,  90.        ,  17.        ,  75.        ,\n",
              "        50.        ,  48.        ,  63.        ,  69.        ,\n",
              "        72.        ,  86.        ,  77.        ,  67.        ,\n",
              "        84.        ,  65.        ,  93.        ,  52.        ,\n",
              "       102.        ,  96.        ,  53.        ,  89.        ,\n",
              "        61.        ,  45.        ,  54.        ,  66.        ,\n",
              "        94.        ,  55.        ,  71.        , 104.        ,\n",
              "        64.        ,  91.        ,  56.        , 105.        ,\n",
              "        70.        ,  57.        ,  42.        ,  62.        ,\n",
              "       100.        , 107.        ,  58.        ,  25.        ,\n",
              "        99.        ,  51.        , 103.        ,  44.        ,\n",
              "       108.        ])"
            ]
          },
          "execution_count": 16,
          "metadata": {},
          "output_type": "execute_result"
        }
      ],
      "source": [
        "df['HighSchoolAverageMark'].unique()"
      ]
    },
    {
      "cell_type": "code",
      "execution_count": null,
      "metadata": {
        "colab": {
          "base_uri": "https://localhost:8080/"
        },
        "id": "1sUdc0qklCX5",
        "outputId": "6ba9bd87-59ca-4d2a-fe93-1c8922a19350"
      },
      "outputs": [
        {
          "data": {
            "text/plain": [
              "array([1., 3., 2.])"
            ]
          },
          "execution_count": 17,
          "metadata": {},
          "output_type": "execute_result"
        }
      ],
      "source": [
        "df['FirstLanguage'].unique()"
      ]
    },
    {
      "attachments": {},
      "cell_type": "markdown",
      "metadata": {
        "id": "pkXKzbFmpmL0"
      },
      "source": [
        "Classify the data into X, and Y (Features and Targets)"
      ]
    },
    {
      "cell_type": "code",
      "execution_count": null,
      "metadata": {
        "id": "Co2RVNC6m0dl"
      },
      "outputs": [],
      "source": [
        "# Extract target values according to statement\n",
        "y = pd.get_dummies(df.iloc[0:, 14])\n",
        "y = np.array(y)\n",
        "\n",
        "# Extract features\n",
        "X = df.iloc[0:, 0:14].values"
      ]
    },
    {
      "cell_type": "code",
      "execution_count": null,
      "metadata": {
        "colab": {
          "base_uri": "https://localhost:8080/"
        },
        "id": "C1kxtI4Qp4HK",
        "outputId": "d79bc71c-cb4b-49cf-f836-d8bb73831033"
      },
      "outputs": [
        {
          "data": {
            "text/plain": [
              "(array([[ 0.        ,  0.        ,  1.        , ..., 59.        ,\n",
              "         16.        ,  7.        ],\n",
              "        [ 2.5       ,  2.        ,  3.        , ..., 77.15273775,\n",
              "         32.55794872,  7.        ],\n",
              "        [ 4.25      ,  3.923077  ,  1.        , ..., 92.        ,\n",
              "         41.        ,  9.        ],\n",
              "        ...,\n",
              "        [ 2.020833  ,  2.45      ,  1.        , ..., 78.        ,\n",
              "         18.        ,  9.        ],\n",
              "        [ 4.021739  ,  4.357143  ,  1.        , ..., 77.15273775,\n",
              "         46.        ,  8.        ],\n",
              "        [ 2.133333  ,  3.205882  ,  1.        , ..., 81.        ,\n",
              "         27.        ,  9.        ]]),\n",
              " array([[0, 1],\n",
              "        [0, 1],\n",
              "        [0, 1],\n",
              "        ...,\n",
              "        [0, 1],\n",
              "        [0, 1],\n",
              "        [0, 1]], dtype=uint8))"
            ]
          },
          "execution_count": 19,
          "metadata": {},
          "output_type": "execute_result"
        }
      ],
      "source": [
        "X, y"
      ]
    },
    {
      "attachments": {},
      "cell_type": "markdown",
      "metadata": {
        "id": "k22BEk4nxqPB"
      },
      "source": [
        "### **C. SPLITTING DATA**"
      ]
    },
    {
      "attachments": {},
      "cell_type": "markdown",
      "metadata": {
        "id": "PRwMYcMcqlZH"
      },
      "source": [
        "Splitting the data "
      ]
    },
    {
      "cell_type": "code",
      "execution_count": null,
      "metadata": {
        "id": "n5a2Yx0bqVdm"
      },
      "outputs": [],
      "source": [
        "X_train_full, X_test, y_train_full, y_test = train_test_split(X, y, test_size = 0.1, shuffle = True)\n",
        "X_train, X_val, y_train, y_val = train_test_split(X_train_full, y_train_full, test_size = 0.2, shuffle = True)"
      ]
    },
    {
      "cell_type": "code",
      "execution_count": null,
      "metadata": {
        "colab": {
          "base_uri": "https://localhost:8080/"
        },
        "id": "EfCsRpAPqrBF",
        "outputId": "671a7927-40cb-4f5b-ba4b-37d65ece142a"
      },
      "outputs": [
        {
          "data": {
            "text/plain": [
              "((1293, 14), (1293, 2))"
            ]
          },
          "execution_count": 21,
          "metadata": {},
          "output_type": "execute_result"
        }
      ],
      "source": [
        "X_train_full.shape, y_train_full.shape"
      ]
    },
    {
      "cell_type": "code",
      "execution_count": null,
      "metadata": {
        "colab": {
          "base_uri": "https://localhost:8080/"
        },
        "id": "EQjZmnVtqrpo",
        "outputId": "0e25052a-0600-4091-9312-d8e219617797"
      },
      "outputs": [
        {
          "data": {
            "text/plain": [
              "((1034, 14), (1034, 2))"
            ]
          },
          "execution_count": 22,
          "metadata": {},
          "output_type": "execute_result"
        }
      ],
      "source": [
        "X_train.shape, y_train.shape"
      ]
    },
    {
      "cell_type": "code",
      "execution_count": null,
      "metadata": {
        "colab": {
          "base_uri": "https://localhost:8080/"
        },
        "id": "fEGFIlSeqsov",
        "outputId": "4363b516-1a91-41e0-efbf-9bd318adf065"
      },
      "outputs": [
        {
          "data": {
            "text/plain": [
              "((144, 14), (144, 2))"
            ]
          },
          "execution_count": 23,
          "metadata": {},
          "output_type": "execute_result"
        }
      ],
      "source": [
        "X_test.shape, y_test.shape"
      ]
    },
    {
      "cell_type": "code",
      "execution_count": null,
      "metadata": {
        "colab": {
          "base_uri": "https://localhost:8080/"
        },
        "id": "UFA8wOGvqthy",
        "outputId": "f8ecc525-426f-4d77-8e1b-e56f82c0c7cd"
      },
      "outputs": [
        {
          "data": {
            "text/plain": [
              "((259, 14), (259, 2))"
            ]
          },
          "execution_count": 24,
          "metadata": {},
          "output_type": "execute_result"
        }
      ],
      "source": [
        "X_val.shape, y_val.shape"
      ]
    },
    {
      "attachments": {},
      "cell_type": "markdown",
      "metadata": {},
      "source": [
        "Print the number of features"
      ]
    },
    {
      "cell_type": "code",
      "execution_count": null,
      "metadata": {
        "colab": {
          "base_uri": "https://localhost:8080/"
        },
        "id": "n7paCYnvquhV",
        "outputId": "45d83297-937b-4610-fcc7-e98d8057fb00"
      },
      "outputs": [
        {
          "name": "stdout",
          "output_type": "stream",
          "text": [
            "14\n"
          ]
        }
      ],
      "source": [
        "n_features = X_train.shape[1]\n",
        "print(n_features)"
      ]
    },
    {
      "attachments": {},
      "cell_type": "markdown",
      "metadata": {
        "id": "cnpyAmSTqXBD"
      },
      "source": [
        "### **D. TRAINING MODEL**"
      ]
    },
    {
      "cell_type": "code",
      "execution_count": null,
      "metadata": {
        "id": "UANS2u5P1vx_"
      },
      "outputs": [],
      "source": [
        "keras.backend.clear_session()\n",
        "np.random.seed(42)\n",
        "tf.random.set_seed(42)"
      ]
    },
    {
      "attachments": {},
      "cell_type": "markdown",
      "metadata": {},
      "source": [
        "Create a Sequential model with some layers:\n",
        "1. Input Layer with 14 features\n",
        "2. Normalization Layer\n",
        "3. Dense Layer with 300 neurons - Activation Relu\n",
        "4. Dense Layer with 150 neurons - Activation Relu\n",
        "5. Alpha Dropout Layer\n",
        "6. Dense Layer with 80 neurons - Activation Relu\n",
        "7. Dense Layer with 25 neurons - Activation Relu\n",
        "8. Output Layer with 2 neurons - Activation Softmax"
      ]
    },
    {
      "cell_type": "code",
      "execution_count": null,
      "metadata": {
        "id": "N9B1M2S-rFmn"
      },
      "outputs": [],
      "source": [
        "model = Sequential()\n",
        "\n",
        "# input layer\n",
        "model.add(Dense(n_features))\n",
        "\n",
        "model.add(Normalization(axis=None))\n",
        "\n",
        "# add the first hidden layer with 300 neurons, relu  activation function\n",
        "model.add(Dense(300, activation=\"relu\", kernel_initializer='he_normal'))\n",
        "\n",
        "# add the first hidden layer with 150 neurons, relu  activation function\n",
        "model.add(Dense(150, activation=\"relu\", kernel_initializer='he_normal'))\n",
        "\n",
        "model.add(keras.layers.AlphaDropout(rate=0.2))\n",
        "\n",
        "# add the second hidden layer with 80 neurons, relu  activation function\n",
        "model.add(Dense(80, activation=\"relu\", kernel_initializer='he_normal'))\n",
        "\n",
        "# add the second hidden layer with 25 neurons, relu  activation function\n",
        "model.add(Dense(25, activation=\"relu\", kernel_initializer='he_normal'))\n",
        "\n",
        "# add the output layer with 2 neurons, erlu activation function\n",
        "model.add(Dense(2, activation=\"softmax\"))"
      ]
    },
    {
      "attachments": {},
      "cell_type": "markdown",
      "metadata": {},
      "source": [
        "Model NADAM with Categorical crossentropy for loss function."
      ]
    },
    {
      "cell_type": "code",
      "execution_count": null,
      "metadata": {
        "colab": {
          "base_uri": "https://localhost:8080/"
        },
        "id": "yURDrxDerc7s",
        "outputId": "4f31bf5f-0a09-4285-9f82-f6ef07772848"
      },
      "outputs": [
        {
          "name": "stderr",
          "output_type": "stream",
          "text": [
            "WARNING:absl:`lr` is deprecated in Keras optimizer, please use `learning_rate` or use the legacy optimizer, e.g.,tf.keras.optimizers.legacy.Nadam.\n"
          ]
        }
      ],
      "source": [
        "#optimizer = tf.keras.optimizers.Adam(learning_rate=5e-4)\n",
        "optimizer = tf.keras.optimizers.Nadam(lr=5e-4)\n",
        "\n",
        "model.compile(optimizer=optimizer, loss='categorical_crossentropy', metrics=['accuracy'])"
      ]
    },
    {
      "attachments": {},
      "cell_type": "markdown",
      "metadata": {},
      "source": [
        "EarlyStopping Callback to avoid overfiting. \n",
        "It will monitor the val loss function."
      ]
    },
    {
      "cell_type": "code",
      "execution_count": null,
      "metadata": {
        "id": "PQgXhsJnt7fq"
      },
      "outputs": [],
      "source": [
        "early_stopping = EarlyStopping(\n",
        "    monitor='val_loss',\n",
        "    min_delta=0.001,\n",
        "    patience=20,\n",
        "    restore_best_weights=True)"
      ]
    },
    {
      "attachments": {},
      "cell_type": "markdown",
      "metadata": {},
      "source": [
        "Checkpoint Callback to get the best model in each epoch iteration."
      ]
    },
    {
      "cell_type": "code",
      "execution_count": null,
      "metadata": {
        "id": "xRBKAvJvtwUL"
      },
      "outputs": [],
      "source": [
        "checkpoint = ModelCheckpoint('save_model_tf/best-model-{epoch:03d}.h5',monitor='val_loss',verbose=0,save_best_only=True,mode='auto')"
      ]
    },
    {
      "attachments": {},
      "cell_type": "markdown",
      "metadata": {},
      "source": [
        "Fit the Model using:\n",
        "- 200 Epochs\n",
        "- 128 Batch Size\n",
        "- Validation Data \n",
        "- Callbacks: Early Stopping and Checkpoint"
      ]
    },
    {
      "cell_type": "code",
      "execution_count": null,
      "metadata": {
        "colab": {
          "base_uri": "https://localhost:8080/"
        },
        "id": "qf1xRfsRreoE",
        "outputId": "f5fe99d2-9d80-43b1-a8d3-c051170550be"
      },
      "outputs": [
        {
          "name": "stdout",
          "output_type": "stream",
          "text": [
            "Epoch 1/200\n",
            "9/9 [==============================] - 4s 55ms/step - loss: 3.1514 - accuracy: 0.6944 - val_loss: 0.4716 - val_accuracy: 0.8108\n",
            "Epoch 2/200\n",
            "9/9 [==============================] - 0s 13ms/step - loss: 0.9133 - accuracy: 0.6799 - val_loss: 0.6000 - val_accuracy: 0.8263\n",
            "Epoch 3/200\n",
            "9/9 [==============================] - 0s 12ms/step - loss: 0.6708 - accuracy: 0.7350 - val_loss: 0.5610 - val_accuracy: 0.8263\n",
            "Epoch 4/200\n",
            "9/9 [==============================] - 0s 12ms/step - loss: 0.6023 - accuracy: 0.7631 - val_loss: 0.5199 - val_accuracy: 0.8263\n",
            "Epoch 5/200\n",
            "9/9 [==============================] - 0s 10ms/step - loss: 0.5671 - accuracy: 0.7650 - val_loss: 0.5073 - val_accuracy: 0.8263\n",
            "Epoch 6/200\n",
            "9/9 [==============================] - 0s 14ms/step - loss: 0.5389 - accuracy: 0.7747 - val_loss: 0.4724 - val_accuracy: 0.8263\n",
            "Epoch 7/200\n",
            "9/9 [==============================] - 0s 12ms/step - loss: 0.5285 - accuracy: 0.7785 - val_loss: 0.4754 - val_accuracy: 0.8263\n",
            "Epoch 8/200\n",
            "9/9 [==============================] - 0s 13ms/step - loss: 0.5277 - accuracy: 0.7853 - val_loss: 0.4868 - val_accuracy: 0.8263\n",
            "Epoch 9/200\n",
            "9/9 [==============================] - 0s 12ms/step - loss: 0.5212 - accuracy: 0.7824 - val_loss: 0.4741 - val_accuracy: 0.8263\n",
            "Epoch 10/200\n",
            "9/9 [==============================] - 0s 17ms/step - loss: 0.5359 - accuracy: 0.7843 - val_loss: 0.4646 - val_accuracy: 0.8263\n",
            "Epoch 11/200\n",
            "9/9 [==============================] - 0s 14ms/step - loss: 0.5351 - accuracy: 0.7795 - val_loss: 0.4630 - val_accuracy: 0.8263\n",
            "Epoch 12/200\n",
            "9/9 [==============================] - 0s 15ms/step - loss: 0.5361 - accuracy: 0.7766 - val_loss: 0.4577 - val_accuracy: 0.8263\n",
            "Epoch 13/200\n",
            "9/9 [==============================] - 0s 11ms/step - loss: 0.5207 - accuracy: 0.7824 - val_loss: 0.4663 - val_accuracy: 0.8263\n",
            "Epoch 14/200\n",
            "9/9 [==============================] - 0s 12ms/step - loss: 0.5160 - accuracy: 0.7834 - val_loss: 0.4648 - val_accuracy: 0.8263\n",
            "Epoch 15/200\n",
            "9/9 [==============================] - 0s 14ms/step - loss: 0.5130 - accuracy: 0.7834 - val_loss: 0.4537 - val_accuracy: 0.8263\n",
            "Epoch 16/200\n",
            "9/9 [==============================] - 0s 16ms/step - loss: 0.5207 - accuracy: 0.7824 - val_loss: 0.4526 - val_accuracy: 0.8263\n",
            "Epoch 17/200\n",
            "9/9 [==============================] - 0s 13ms/step - loss: 0.5089 - accuracy: 0.7834 - val_loss: 0.4696 - val_accuracy: 0.8263\n",
            "Epoch 18/200\n",
            "9/9 [==============================] - 0s 14ms/step - loss: 0.5115 - accuracy: 0.7834 - val_loss: 0.4667 - val_accuracy: 0.8263\n",
            "Epoch 19/200\n",
            "9/9 [==============================] - 0s 10ms/step - loss: 0.5115 - accuracy: 0.7834 - val_loss: 0.4576 - val_accuracy: 0.8263\n",
            "Epoch 20/200\n",
            "9/9 [==============================] - 0s 14ms/step - loss: 0.5133 - accuracy: 0.7834 - val_loss: 0.4577 - val_accuracy: 0.8263\n",
            "Epoch 21/200\n",
            "9/9 [==============================] - 0s 12ms/step - loss: 0.5060 - accuracy: 0.7834 - val_loss: 0.4636 - val_accuracy: 0.8263\n",
            "Epoch 22/200\n",
            "9/9 [==============================] - 0s 12ms/step - loss: 0.5033 - accuracy: 0.7824 - val_loss: 0.4584 - val_accuracy: 0.8263\n",
            "Epoch 23/200\n",
            "9/9 [==============================] - 0s 18ms/step - loss: 0.5097 - accuracy: 0.7834 - val_loss: 0.4492 - val_accuracy: 0.8263\n",
            "Epoch 24/200\n",
            "9/9 [==============================] - 0s 16ms/step - loss: 0.5131 - accuracy: 0.7834 - val_loss: 0.4484 - val_accuracy: 0.8263\n",
            "Epoch 25/200\n",
            "9/9 [==============================] - 0s 12ms/step - loss: 0.5169 - accuracy: 0.7834 - val_loss: 0.4574 - val_accuracy: 0.8263\n",
            "Epoch 26/200\n",
            "9/9 [==============================] - 0s 10ms/step - loss: 0.5061 - accuracy: 0.7824 - val_loss: 0.4498 - val_accuracy: 0.8263\n",
            "Epoch 27/200\n",
            "9/9 [==============================] - 0s 15ms/step - loss: 0.5098 - accuracy: 0.7834 - val_loss: 0.4524 - val_accuracy: 0.8263\n",
            "Epoch 28/200\n",
            "9/9 [==============================] - 0s 11ms/step - loss: 0.5042 - accuracy: 0.7824 - val_loss: 0.4518 - val_accuracy: 0.8263\n",
            "Epoch 29/200\n",
            "9/9 [==============================] - 0s 10ms/step - loss: 0.5084 - accuracy: 0.7834 - val_loss: 0.4506 - val_accuracy: 0.8263\n",
            "Epoch 30/200\n",
            "9/9 [==============================] - 0s 13ms/step - loss: 0.5060 - accuracy: 0.7834 - val_loss: 0.4486 - val_accuracy: 0.8263\n",
            "Epoch 31/200\n",
            "9/9 [==============================] - 0s 13ms/step - loss: 0.4954 - accuracy: 0.7834 - val_loss: 0.4564 - val_accuracy: 0.8263\n",
            "Epoch 32/200\n",
            "9/9 [==============================] - 0s 17ms/step - loss: 0.5034 - accuracy: 0.7834 - val_loss: 0.4470 - val_accuracy: 0.8263\n",
            "Epoch 33/200\n",
            "9/9 [==============================] - 0s 14ms/step - loss: 0.4928 - accuracy: 0.7834 - val_loss: 0.4505 - val_accuracy: 0.8263\n",
            "Epoch 34/200\n",
            "9/9 [==============================] - 0s 13ms/step - loss: 0.5037 - accuracy: 0.7834 - val_loss: 0.4522 - val_accuracy: 0.8263\n",
            "Epoch 35/200\n",
            "9/9 [==============================] - 0s 13ms/step - loss: 0.4940 - accuracy: 0.7834 - val_loss: 0.4471 - val_accuracy: 0.8263\n",
            "Epoch 36/200\n",
            "9/9 [==============================] - 0s 18ms/step - loss: 0.4944 - accuracy: 0.7834 - val_loss: 0.4445 - val_accuracy: 0.8263\n",
            "Epoch 37/200\n",
            "9/9 [==============================] - 0s 10ms/step - loss: 0.4969 - accuracy: 0.7834 - val_loss: 0.4486 - val_accuracy: 0.8263\n",
            "Epoch 38/200\n",
            "9/9 [==============================] - 0s 16ms/step - loss: 0.5014 - accuracy: 0.7834 - val_loss: 0.4379 - val_accuracy: 0.8263\n",
            "Epoch 39/200\n",
            "9/9 [==============================] - 0s 13ms/step - loss: 0.4914 - accuracy: 0.7834 - val_loss: 0.4442 - val_accuracy: 0.8263\n",
            "Epoch 40/200\n",
            "9/9 [==============================] - 0s 17ms/step - loss: 0.4897 - accuracy: 0.7834 - val_loss: 0.4344 - val_accuracy: 0.8263\n",
            "Epoch 41/200\n",
            "9/9 [==============================] - 0s 15ms/step - loss: 0.4907 - accuracy: 0.7834 - val_loss: 0.4332 - val_accuracy: 0.8263\n",
            "Epoch 42/200\n",
            "9/9 [==============================] - 0s 10ms/step - loss: 0.4911 - accuracy: 0.7834 - val_loss: 0.4612 - val_accuracy: 0.8263\n",
            "Epoch 43/200\n",
            "9/9 [==============================] - 0s 18ms/step - loss: 0.4910 - accuracy: 0.7834 - val_loss: 0.4323 - val_accuracy: 0.8263\n",
            "Epoch 44/200\n",
            "9/9 [==============================] - 0s 13ms/step - loss: 0.4852 - accuracy: 0.7824 - val_loss: 0.4536 - val_accuracy: 0.8263\n",
            "Epoch 45/200\n",
            "9/9 [==============================] - 0s 10ms/step - loss: 0.4879 - accuracy: 0.7824 - val_loss: 0.4356 - val_accuracy: 0.8263\n",
            "Epoch 46/200\n",
            "9/9 [==============================] - 0s 14ms/step - loss: 0.4803 - accuracy: 0.7824 - val_loss: 0.4271 - val_accuracy: 0.8263\n",
            "Epoch 47/200\n",
            "9/9 [==============================] - 0s 12ms/step - loss: 0.4816 - accuracy: 0.7843 - val_loss: 0.4367 - val_accuracy: 0.8263\n",
            "Epoch 48/200\n",
            "9/9 [==============================] - 0s 14ms/step - loss: 0.4770 - accuracy: 0.7843 - val_loss: 0.4412 - val_accuracy: 0.8263\n",
            "Epoch 49/200\n",
            "9/9 [==============================] - 0s 18ms/step - loss: 0.4669 - accuracy: 0.7843 - val_loss: 0.4152 - val_accuracy: 0.8378\n",
            "Epoch 50/200\n",
            "9/9 [==============================] - 0s 11ms/step - loss: 0.4637 - accuracy: 0.7863 - val_loss: 0.4213 - val_accuracy: 0.8263\n",
            "Epoch 51/200\n",
            "9/9 [==============================] - 0s 13ms/step - loss: 0.4679 - accuracy: 0.7892 - val_loss: 0.4189 - val_accuracy: 0.8456\n",
            "Epoch 52/200\n",
            "9/9 [==============================] - 0s 17ms/step - loss: 0.4646 - accuracy: 0.7892 - val_loss: 0.4019 - val_accuracy: 0.8378\n",
            "Epoch 53/200\n",
            "9/9 [==============================] - 0s 13ms/step - loss: 0.4497 - accuracy: 0.8037 - val_loss: 0.4028 - val_accuracy: 0.8417\n",
            "Epoch 54/200\n",
            "9/9 [==============================] - 0s 14ms/step - loss: 0.4435 - accuracy: 0.8037 - val_loss: 0.4383 - val_accuracy: 0.8340\n",
            "Epoch 55/200\n",
            "9/9 [==============================] - 0s 17ms/step - loss: 0.4391 - accuracy: 0.7911 - val_loss: 0.3959 - val_accuracy: 0.8417\n",
            "Epoch 56/200\n",
            "9/9 [==============================] - 0s 18ms/step - loss: 0.4338 - accuracy: 0.8114 - val_loss: 0.4405 - val_accuracy: 0.7992\n",
            "Epoch 57/200\n",
            "9/9 [==============================] - 0s 26ms/step - loss: 0.4302 - accuracy: 0.8269 - val_loss: 0.3927 - val_accuracy: 0.8610\n",
            "Epoch 58/200\n",
            "9/9 [==============================] - 0s 19ms/step - loss: 0.4234 - accuracy: 0.8201 - val_loss: 0.3987 - val_accuracy: 0.8494\n",
            "Epoch 59/200\n",
            "9/9 [==============================] - 0s 17ms/step - loss: 0.4145 - accuracy: 0.8211 - val_loss: 0.4741 - val_accuracy: 0.7683\n",
            "Epoch 60/200\n",
            "9/9 [==============================] - 0s 23ms/step - loss: 0.4399 - accuracy: 0.7969 - val_loss: 0.3887 - val_accuracy: 0.8494\n",
            "Epoch 61/200\n",
            "9/9 [==============================] - 0s 19ms/step - loss: 0.4151 - accuracy: 0.8288 - val_loss: 0.4128 - val_accuracy: 0.8417\n",
            "Epoch 62/200\n",
            "9/9 [==============================] - 0s 18ms/step - loss: 0.4054 - accuracy: 0.8259 - val_loss: 0.4195 - val_accuracy: 0.8494\n",
            "Epoch 63/200\n",
            "9/9 [==============================] - 0s 19ms/step - loss: 0.4108 - accuracy: 0.8269 - val_loss: 0.4867 - val_accuracy: 0.8456\n",
            "Epoch 64/200\n",
            "9/9 [==============================] - 0s 20ms/step - loss: 0.4155 - accuracy: 0.8395 - val_loss: 0.4998 - val_accuracy: 0.8494\n",
            "Epoch 65/200\n",
            "9/9 [==============================] - 0s 20ms/step - loss: 0.4180 - accuracy: 0.8327 - val_loss: 0.3917 - val_accuracy: 0.8571\n",
            "Epoch 66/200\n",
            "9/9 [==============================] - 0s 25ms/step - loss: 0.3910 - accuracy: 0.8366 - val_loss: 0.3762 - val_accuracy: 0.8456\n",
            "Epoch 67/200\n",
            "9/9 [==============================] - 0s 20ms/step - loss: 0.4028 - accuracy: 0.8356 - val_loss: 0.4489 - val_accuracy: 0.8533\n",
            "Epoch 68/200\n",
            "9/9 [==============================] - 0s 19ms/step - loss: 0.4002 - accuracy: 0.8327 - val_loss: 0.4357 - val_accuracy: 0.8571\n",
            "Epoch 69/200\n",
            "9/9 [==============================] - 0s 25ms/step - loss: 0.3925 - accuracy: 0.8395 - val_loss: 0.4652 - val_accuracy: 0.7838\n",
            "Epoch 70/200\n",
            "9/9 [==============================] - 0s 20ms/step - loss: 0.3969 - accuracy: 0.8385 - val_loss: 0.4515 - val_accuracy: 0.8533\n",
            "Epoch 71/200\n",
            "9/9 [==============================] - 0s 20ms/step - loss: 0.4016 - accuracy: 0.8395 - val_loss: 0.4045 - val_accuracy: 0.8610\n",
            "Epoch 72/200\n",
            "9/9 [==============================] - 0s 13ms/step - loss: 0.3851 - accuracy: 0.8472 - val_loss: 0.4307 - val_accuracy: 0.8610\n",
            "Epoch 73/200\n",
            "9/9 [==============================] - 0s 13ms/step - loss: 0.4001 - accuracy: 0.8317 - val_loss: 0.4124 - val_accuracy: 0.8610\n",
            "Epoch 74/200\n",
            "9/9 [==============================] - 0s 12ms/step - loss: 0.3846 - accuracy: 0.8511 - val_loss: 0.3827 - val_accuracy: 0.8494\n",
            "Epoch 75/200\n",
            "9/9 [==============================] - 0s 17ms/step - loss: 0.3879 - accuracy: 0.8404 - val_loss: 0.3859 - val_accuracy: 0.8687\n",
            "Epoch 76/200\n",
            "9/9 [==============================] - 0s 13ms/step - loss: 0.3801 - accuracy: 0.8433 - val_loss: 0.4240 - val_accuracy: 0.8533\n",
            "Epoch 77/200\n",
            "9/9 [==============================] - 0s 10ms/step - loss: 0.3819 - accuracy: 0.8530 - val_loss: 0.4312 - val_accuracy: 0.8147\n",
            "Epoch 78/200\n",
            "9/9 [==============================] - 0s 13ms/step - loss: 0.3990 - accuracy: 0.8317 - val_loss: 0.4310 - val_accuracy: 0.8147\n",
            "Epoch 79/200\n",
            "9/9 [==============================] - 0s 12ms/step - loss: 0.3834 - accuracy: 0.8424 - val_loss: 0.4363 - val_accuracy: 0.8571\n",
            "Epoch 80/200\n",
            "9/9 [==============================] - 0s 13ms/step - loss: 0.3932 - accuracy: 0.8462 - val_loss: 0.3813 - val_accuracy: 0.8610\n",
            "Epoch 81/200\n",
            "9/9 [==============================] - 0s 15ms/step - loss: 0.3820 - accuracy: 0.8453 - val_loss: 0.3786 - val_accuracy: 0.8533\n",
            "Epoch 82/200\n",
            "9/9 [==============================] - 0s 13ms/step - loss: 0.3670 - accuracy: 0.8453 - val_loss: 0.4237 - val_accuracy: 0.8610\n",
            "Epoch 83/200\n",
            "9/9 [==============================] - 0s 19ms/step - loss: 0.3825 - accuracy: 0.8472 - val_loss: 0.3750 - val_accuracy: 0.8533\n",
            "Epoch 84/200\n",
            "9/9 [==============================] - 0s 13ms/step - loss: 0.3711 - accuracy: 0.8559 - val_loss: 0.3825 - val_accuracy: 0.8571\n",
            "Epoch 85/200\n",
            "9/9 [==============================] - 0s 14ms/step - loss: 0.3841 - accuracy: 0.8443 - val_loss: 0.3796 - val_accuracy: 0.8571\n",
            "Epoch 86/200\n",
            "9/9 [==============================] - 0s 12ms/step - loss: 0.3758 - accuracy: 0.8501 - val_loss: 0.4091 - val_accuracy: 0.8571\n",
            "Epoch 87/200\n",
            "9/9 [==============================] - 0s 13ms/step - loss: 0.3746 - accuracy: 0.8530 - val_loss: 0.4443 - val_accuracy: 0.8108\n",
            "Epoch 88/200\n",
            "9/9 [==============================] - 0s 14ms/step - loss: 0.3971 - accuracy: 0.8346 - val_loss: 0.3795 - val_accuracy: 0.8687\n",
            "Epoch 89/200\n",
            "9/9 [==============================] - 0s 13ms/step - loss: 0.3746 - accuracy: 0.8530 - val_loss: 0.4326 - val_accuracy: 0.8571\n",
            "Epoch 90/200\n",
            "9/9 [==============================] - 0s 14ms/step - loss: 0.3834 - accuracy: 0.8530 - val_loss: 0.3835 - val_accuracy: 0.8417\n",
            "Epoch 91/200\n",
            "9/9 [==============================] - 0s 14ms/step - loss: 0.3773 - accuracy: 0.8472 - val_loss: 0.3908 - val_accuracy: 0.8649\n",
            "Epoch 92/200\n",
            "9/9 [==============================] - 0s 13ms/step - loss: 0.3759 - accuracy: 0.8462 - val_loss: 0.3808 - val_accuracy: 0.8649\n",
            "Epoch 93/200\n",
            "9/9 [==============================] - 0s 12ms/step - loss: 0.3739 - accuracy: 0.8511 - val_loss: 0.3857 - val_accuracy: 0.8610\n",
            "Epoch 94/200\n",
            "9/9 [==============================] - 0s 14ms/step - loss: 0.3677 - accuracy: 0.8598 - val_loss: 0.4229 - val_accuracy: 0.8301\n",
            "Epoch 95/200\n",
            "9/9 [==============================] - 0s 14ms/step - loss: 0.3808 - accuracy: 0.8424 - val_loss: 0.4112 - val_accuracy: 0.8571\n",
            "Epoch 96/200\n",
            "9/9 [==============================] - 0s 10ms/step - loss: 0.3742 - accuracy: 0.8530 - val_loss: 0.3991 - val_accuracy: 0.8610\n",
            "Epoch 97/200\n",
            "9/9 [==============================] - 0s 17ms/step - loss: 0.3722 - accuracy: 0.8511 - val_loss: 0.3722 - val_accuracy: 0.8649\n",
            "Epoch 98/200\n",
            "9/9 [==============================] - 0s 14ms/step - loss: 0.3697 - accuracy: 0.8491 - val_loss: 0.4239 - val_accuracy: 0.8301\n",
            "Epoch 99/200\n",
            "9/9 [==============================] - 0s 17ms/step - loss: 0.3857 - accuracy: 0.8453 - val_loss: 0.3588 - val_accuracy: 0.8687\n",
            "Epoch 100/200\n",
            "9/9 [==============================] - 0s 12ms/step - loss: 0.3629 - accuracy: 0.8598 - val_loss: 0.4012 - val_accuracy: 0.8610\n",
            "Epoch 101/200\n",
            "9/9 [==============================] - 0s 12ms/step - loss: 0.3697 - accuracy: 0.8511 - val_loss: 0.3869 - val_accuracy: 0.8417\n",
            "Epoch 102/200\n",
            "9/9 [==============================] - 0s 17ms/step - loss: 0.3736 - accuracy: 0.8491 - val_loss: 0.3585 - val_accuracy: 0.8687\n",
            "Epoch 103/200\n",
            "9/9 [==============================] - 0s 15ms/step - loss: 0.3709 - accuracy: 0.8540 - val_loss: 0.3792 - val_accuracy: 0.8726\n",
            "Epoch 104/200\n",
            "9/9 [==============================] - 0s 15ms/step - loss: 0.3680 - accuracy: 0.8511 - val_loss: 0.4116 - val_accuracy: 0.8687\n",
            "Epoch 105/200\n",
            "9/9 [==============================] - 0s 14ms/step - loss: 0.3733 - accuracy: 0.8511 - val_loss: 0.3790 - val_accuracy: 0.8726\n",
            "Epoch 106/200\n",
            "9/9 [==============================] - 0s 13ms/step - loss: 0.3673 - accuracy: 0.8559 - val_loss: 0.3899 - val_accuracy: 0.8610\n",
            "Epoch 107/200\n",
            "9/9 [==============================] - 0s 12ms/step - loss: 0.3619 - accuracy: 0.8578 - val_loss: 0.4324 - val_accuracy: 0.8610\n",
            "Epoch 108/200\n",
            "9/9 [==============================] - 0s 15ms/step - loss: 0.3675 - accuracy: 0.8569 - val_loss: 0.3978 - val_accuracy: 0.8649\n",
            "Epoch 109/200\n",
            "9/9 [==============================] - 0s 14ms/step - loss: 0.3650 - accuracy: 0.8569 - val_loss: 0.3846 - val_accuracy: 0.8610\n",
            "Epoch 110/200\n",
            "9/9 [==============================] - 0s 12ms/step - loss: 0.3657 - accuracy: 0.8549 - val_loss: 0.3678 - val_accuracy: 0.8687\n",
            "Epoch 111/200\n",
            "9/9 [==============================] - 0s 13ms/step - loss: 0.3613 - accuracy: 0.8559 - val_loss: 0.3735 - val_accuracy: 0.8726\n",
            "Epoch 112/200\n",
            "9/9 [==============================] - 0s 14ms/step - loss: 0.3623 - accuracy: 0.8578 - val_loss: 0.4044 - val_accuracy: 0.8417\n",
            "Epoch 113/200\n",
            "9/9 [==============================] - 0s 15ms/step - loss: 0.3779 - accuracy: 0.8530 - val_loss: 0.3870 - val_accuracy: 0.8610\n",
            "Epoch 114/200\n",
            "9/9 [==============================] - 0s 12ms/step - loss: 0.3706 - accuracy: 0.8549 - val_loss: 0.3670 - val_accuracy: 0.8726\n",
            "Epoch 115/200\n",
            "9/9 [==============================] - 0s 14ms/step - loss: 0.3651 - accuracy: 0.8559 - val_loss: 0.3685 - val_accuracy: 0.8687\n",
            "Epoch 116/200\n",
            "9/9 [==============================] - 0s 14ms/step - loss: 0.3693 - accuracy: 0.8588 - val_loss: 0.3793 - val_accuracy: 0.8649\n",
            "Epoch 117/200\n",
            "9/9 [==============================] - 0s 12ms/step - loss: 0.3634 - accuracy: 0.8646 - val_loss: 0.5194 - val_accuracy: 0.8456\n",
            "Epoch 118/200\n",
            "9/9 [==============================] - 0s 15ms/step - loss: 0.4037 - accuracy: 0.8279 - val_loss: 0.5150 - val_accuracy: 0.7529\n",
            "Epoch 119/200\n",
            "9/9 [==============================] - 0s 17ms/step - loss: 0.4431 - accuracy: 0.8066 - val_loss: 0.3503 - val_accuracy: 0.8649\n",
            "Epoch 120/200\n",
            "9/9 [==============================] - 0s 13ms/step - loss: 0.3842 - accuracy: 0.8511 - val_loss: 0.3543 - val_accuracy: 0.8764\n",
            "Epoch 121/200\n",
            "9/9 [==============================] - 0s 14ms/step - loss: 0.3711 - accuracy: 0.8491 - val_loss: 0.3809 - val_accuracy: 0.8610\n",
            "Epoch 122/200\n",
            "9/9 [==============================] - 0s 14ms/step - loss: 0.3678 - accuracy: 0.8472 - val_loss: 0.3648 - val_accuracy: 0.8764\n",
            "Epoch 123/200\n",
            "9/9 [==============================] - 0s 12ms/step - loss: 0.3616 - accuracy: 0.8588 - val_loss: 0.3608 - val_accuracy: 0.8764\n",
            "Epoch 124/200\n",
            "9/9 [==============================] - 0s 14ms/step - loss: 0.3677 - accuracy: 0.8559 - val_loss: 0.3612 - val_accuracy: 0.8687\n",
            "Epoch 125/200\n",
            "9/9 [==============================] - 0s 12ms/step - loss: 0.3736 - accuracy: 0.8607 - val_loss: 0.3547 - val_accuracy: 0.8687\n",
            "Epoch 126/200\n",
            "9/9 [==============================] - 0s 15ms/step - loss: 0.3811 - accuracy: 0.8559 - val_loss: 0.3691 - val_accuracy: 0.8610\n",
            "Epoch 127/200\n",
            "9/9 [==============================] - 0s 14ms/step - loss: 0.3632 - accuracy: 0.8636 - val_loss: 0.3622 - val_accuracy: 0.8726\n",
            "Epoch 128/200\n",
            "9/9 [==============================] - 0s 12ms/step - loss: 0.3599 - accuracy: 0.8578 - val_loss: 0.3681 - val_accuracy: 0.8726\n",
            "Epoch 129/200\n",
            "9/9 [==============================] - 0s 12ms/step - loss: 0.3627 - accuracy: 0.8607 - val_loss: 0.4017 - val_accuracy: 0.8610\n",
            "Epoch 130/200\n",
            "9/9 [==============================] - 0s 13ms/step - loss: 0.3664 - accuracy: 0.8607 - val_loss: 0.3550 - val_accuracy: 0.8726\n",
            "Epoch 131/200\n",
            "9/9 [==============================] - 0s 12ms/step - loss: 0.3691 - accuracy: 0.8578 - val_loss: 0.3612 - val_accuracy: 0.8687\n",
            "Epoch 132/200\n",
            "9/9 [==============================] - 0s 17ms/step - loss: 0.3609 - accuracy: 0.8578 - val_loss: 0.3574 - val_accuracy: 0.8687\n",
            "Epoch 133/200\n",
            "9/9 [==============================] - 0s 12ms/step - loss: 0.3791 - accuracy: 0.8598 - val_loss: 0.3754 - val_accuracy: 0.8610\n",
            "Epoch 134/200\n",
            "9/9 [==============================] - 0s 13ms/step - loss: 0.3689 - accuracy: 0.8559 - val_loss: 0.3859 - val_accuracy: 0.8687\n",
            "Epoch 135/200\n",
            "9/9 [==============================] - 0s 11ms/step - loss: 0.3631 - accuracy: 0.8636 - val_loss: 0.3540 - val_accuracy: 0.8803\n",
            "Epoch 136/200\n",
            "9/9 [==============================] - 0s 15ms/step - loss: 0.3538 - accuracy: 0.8569 - val_loss: 0.3867 - val_accuracy: 0.8649\n",
            "Epoch 137/200\n",
            "9/9 [==============================] - 0s 15ms/step - loss: 0.3636 - accuracy: 0.8607 - val_loss: 0.3743 - val_accuracy: 0.8687\n",
            "Epoch 138/200\n",
            "9/9 [==============================] - 0s 12ms/step - loss: 0.3604 - accuracy: 0.8588 - val_loss: 0.3702 - val_accuracy: 0.8764\n",
            "Epoch 139/200\n",
            "9/9 [==============================] - 0s 15ms/step - loss: 0.3589 - accuracy: 0.8559 - val_loss: 0.3832 - val_accuracy: 0.8533\n"
          ]
        }
      ],
      "source": [
        "history = model.fit(X_train, y_train, epochs=200, batch_size=128, validation_data = (X_val, y_val), callbacks=[checkpoint, early_stopping])"
      ]
    },
    {
      "attachments": {},
      "cell_type": "markdown",
      "metadata": {},
      "source": [
        "Print the summary of the model"
      ]
    },
    {
      "cell_type": "code",
      "execution_count": null,
      "metadata": {
        "colab": {
          "base_uri": "https://localhost:8080/"
        },
        "id": "nmyL-bLY8vrX",
        "outputId": "462690ab-4053-4685-c8f1-0dabba45393d"
      },
      "outputs": [
        {
          "name": "stdout",
          "output_type": "stream",
          "text": [
            "Model: \"sequential\"\n",
            "_________________________________________________________________\n",
            " Layer (type)                Output Shape              Param #   \n",
            "=================================================================\n",
            " dense (Dense)               (None, 14)                210       \n",
            "                                                                 \n",
            " normalization (Normalizatio  (None, 14)               3         \n",
            " n)                                                              \n",
            "                                                                 \n",
            " dense_1 (Dense)             (None, 300)               4500      \n",
            "                                                                 \n",
            " dense_2 (Dense)             (None, 150)               45150     \n",
            "                                                                 \n",
            " alpha_dropout (AlphaDropout  (None, 150)              0         \n",
            " )                                                               \n",
            "                                                                 \n",
            " dense_3 (Dense)             (None, 80)                12080     \n",
            "                                                                 \n",
            " dense_4 (Dense)             (None, 25)                2025      \n",
            "                                                                 \n",
            " dense_5 (Dense)             (None, 2)                 52        \n",
            "                                                                 \n",
            "=================================================================\n",
            "Total params: 64,020\n",
            "Trainable params: 64,017\n",
            "Non-trainable params: 3\n",
            "_________________________________________________________________\n"
          ]
        }
      ],
      "source": [
        "model.summary()"
      ]
    },
    {
      "attachments": {},
      "cell_type": "markdown",
      "metadata": {
        "id": "Efa7ggIPx8Vc"
      },
      "source": [
        "### **E. EVALUATION MODEL**"
      ]
    },
    {
      "attachments": {},
      "cell_type": "markdown",
      "metadata": {},
      "source": [
        "Model Accuracy (training, testing and validation data)"
      ]
    },
    {
      "cell_type": "code",
      "execution_count": null,
      "metadata": {
        "colab": {
          "base_uri": "https://localhost:8080/"
        },
        "id": "K9eXhBQOvJbj",
        "outputId": "47766dbe-d5e1-4360-d2ae-f3c796c9bbd6"
      },
      "outputs": [
        {
          "name": "stdout",
          "output_type": "stream",
          "text": [
            "Test Accuracy: 0.865\n"
          ]
        }
      ],
      "source": [
        "# Evaluate with training data\n",
        "loss, acc = model.evaluate(X_train, y_train, verbose=0)\n",
        "print('Training Accuracy: %.3f' % acc)"
      ]
    },
    {
      "cell_type": "code",
      "execution_count": null,
      "metadata": {
        "colab": {
          "base_uri": "https://localhost:8080/"
        },
        "id": "JG5vqphHvYU7",
        "outputId": "75c65cd6-a42d-4667-acb8-ee5a79edfb01"
      },
      "outputs": [
        {
          "name": "stdout",
          "output_type": "stream",
          "text": [
            "Test Accuracy: 0.868\n"
          ]
        }
      ],
      "source": [
        "# Evaluate with testing data\n",
        "loss, acc = model.evaluate(X_test, y_test, verbose=0)\n",
        "print('Test Accuracy: %.3f' % acc)"
      ]
    },
    {
      "cell_type": "code",
      "execution_count": null,
      "metadata": {
        "colab": {
          "base_uri": "https://localhost:8080/"
        },
        "id": "f4fjkEyoFJQL",
        "outputId": "5b028404-2d04-4830-9e1d-2ad303fcda2b"
      },
      "outputs": [
        {
          "name": "stdout",
          "output_type": "stream",
          "text": [
            "Test Accuracy: 0.865\n"
          ]
        }
      ],
      "source": [
        "# Evaluate with val data\n",
        "loss, acc = model.evaluate(X_val, y_val, verbose=0)\n",
        "print('Validation Accuracy: %.3f' % acc)"
      ]
    },
    {
      "attachments": {},
      "cell_type": "markdown",
      "metadata": {},
      "source": [
        "Plots (Loss, Accuracy, Mix)"
      ]
    },
    {
      "cell_type": "code",
      "execution_count": null,
      "metadata": {
        "colab": {
          "base_uri": "https://localhost:8080/",
          "height": 251
        },
        "id": "63yQA6GUvdWp",
        "outputId": "bc54f28e-2f3c-4aa9-8ffd-30d0bf658e0a"
      },
      "outputs": [
        {
          "data": {
            "image/png": "[encoded data removed]",
            "text/plain": [
              "<Figure size 640x480 with 1 Axes>"
            ]
          },
          "metadata": {},
          "output_type": "display_data"
        }
      ],
      "source": [
        "# plot loss during training\n",
        "plt.subplot(211)\n",
        "plt.title('Loss')\n",
        "plt.plot(history.history['loss'], label='train')\n",
        "plt.plot(history.history['val_loss'], label='test')\n",
        "plt.legend()\n",
        "plt.show()"
      ]
    },
    {
      "cell_type": "code",
      "execution_count": null,
      "metadata": {
        "colab": {
          "base_uri": "https://localhost:8080/",
          "height": 251
        },
        "id": "fbjIUJW8vh_k",
        "outputId": "09be479e-4d0e-4dee-8626-0efd566e5cc2"
      },
      "outputs": [
        {
          "data": {
            "image/png": "[encoded data removed]",
            "text/plain": [
              "<Figure size 640x480 with 1 Axes>"
            ]
          },
          "metadata": {},
          "output_type": "display_data"
        }
      ],
      "source": [
        "# plot accuracy during training\n",
        "plt.subplot(212)\n",
        "plt.title('Accuracy')\n",
        "plt.plot(history.history['accuracy'], label='train')\n",
        "plt.plot(history.history['val_accuracy'], label='test')\n",
        "plt.legend()\n",
        "plt.show()"
      ]
    },
    {
      "cell_type": "code",
      "execution_count": null,
      "metadata": {
        "colab": {
          "base_uri": "https://localhost:8080/",
          "height": 477
        },
        "id": "sbhTxfUi0FLX",
        "outputId": "5544f0d6-b1ba-469c-ee3d-27c729e9984c"
      },
      "outputs": [
        {
          "data": {
            "image/png": "[encoded data removed]",
            "text/plain": [
              "<Figure size 640x480 with 1 Axes>"
            ]
          },
          "metadata": {},
          "output_type": "display_data"
        }
      ],
      "source": [
        "plt.style.use(\"ggplot\")\n",
        "plt.figure()\n",
        "plt.plot(np.arange(0, 139), history.history[\"loss\"], label=\"train_loss\")\n",
        "plt.plot(np.arange(0, 139), history.history[\"val_loss\"], label=\"val_loss\")\n",
        "plt.plot(np.arange(0, 139), history.history[\"accuracy\"], label=\"train_acc\")\n",
        "plt.plot(np.arange(0, 139), history.history[\"val_accuracy\"], label=\"val_acc\")\n",
        "plt.title(\"Training Loss and Accuracy\")\n",
        "plt.xlabel(\"Epoch #\")\n",
        "plt.ylabel(\"Loss/Accuracy\")\n",
        "plt.legend(loc=\"lower left\")\n",
        "plt.show()"
      ]
    },
    {
      "attachments": {},
      "cell_type": "markdown",
      "metadata": {},
      "source": [
        "Prediction of model using the test data"
      ]
    },
    {
      "cell_type": "code",
      "execution_count": null,
      "metadata": {
        "colab": {
          "base_uri": "https://localhost:8080/"
        },
        "id": "MZAMtcoYvo86",
        "outputId": "a83bad88-388d-4788-9c2d-de236a6e319d"
      },
      "outputs": [
        {
          "name": "stdout",
          "output_type": "stream",
          "text": [
            "5/5 [==============================] - 0s 5ms/step\n"
          ]
        }
      ],
      "source": [
        "# make predictions on the testing set\n",
        "predict = model.predict(X_test, batch_size=32)"
      ]
    },
    {
      "attachments": {},
      "cell_type": "markdown",
      "metadata": {},
      "source": [
        "Label the prediction data"
      ]
    },
    {
      "cell_type": "code",
      "execution_count": null,
      "metadata": {
        "id": "eEEoZ0IMvtBM"
      },
      "outputs": [],
      "source": [
        "# for each image in the testing set we need to find the index of the\n",
        "# label with corresponding largest predicted probability\n",
        "predict_labeled = np.argmax(predict, axis=1)"
      ]
    },
    {
      "attachments": {},
      "cell_type": "markdown",
      "metadata": {},
      "source": [
        "Print the classification report"
      ]
    },
    {
      "cell_type": "code",
      "execution_count": null,
      "metadata": {
        "colab": {
          "base_uri": "https://localhost:8080/"
        },
        "id": "Pax7R7D0vvd_",
        "outputId": "59efa351-b513-4c07-aeea-406b73aec7b3"
      },
      "outputs": [
        {
          "name": "stdout",
          "output_type": "stream",
          "text": [
            "                          precision    recall  f1-score   support\n",
            "\n",
            " FirstYearPersistence_no       1.00      0.37      0.54        30\n",
            "FirstYearPersistence_yes       0.86      1.00      0.92       114\n",
            "\n",
            "                accuracy                           0.87       144\n",
            "               macro avg       0.93      0.68      0.73       144\n",
            "            weighted avg       0.89      0.87      0.84       144\n",
            "\n"
          ]
        }
      ],
      "source": [
        "# show a nicely formatted classification report\n",
        "print(classification_report(y_test.argmax(axis=1), predict_labeled, target_names=label_dict))"
      ]
    },
    {
      "cell_type": "code",
      "execution_count": null,
      "metadata": {
        "id": "vXYjrX9YxCzm"
      },
      "outputs": [],
      "source": [
        "'''\n",
        "0\t0\t1\t2\t6\t2\t1\t1\t2\t1\t1\t59\t16\t7\t1\n",
        "2.5\t2\t3\t4\t6\t1\t2\t2\t2\t1\t3\tNaN\tNaN\t7\t1\n",
        "4.25\t3.923077\t1\t1\t6\t2\t1\t1\t1\t2\t3\t92\t41\t9\t1\n",
        "'''"
      ]
    },
    {
      "cell_type": "code",
      "execution_count": null,
      "metadata": {
        "colab": {
          "base_uri": "https://localhost:8080/"
        },
        "id": "YZf8r-HP6p2V",
        "outputId": "b7b43c19-d869-4e98-bc06-928329c00c7a"
      },
      "outputs": [
        {
          "data": {
            "text/plain": [
              "array([ 2.18      ,  1.566667  ,  1.        ,  2.        ,  6.        ,\n",
              "        2.        ,  2.        ,  1.        ,  2.        ,  1.        ,\n",
              "        2.        , 65.        , 32.55794872,  9.        ])"
            ]
          },
          "execution_count": 43,
          "metadata": {},
          "output_type": "execute_result"
        }
      ],
      "source": [
        "X_test[0]"
      ]
    },
    {
      "attachments": {},
      "cell_type": "markdown",
      "metadata": {},
      "source": [
        "Examples to test the prediction using a list"
      ]
    },
    {
      "cell_type": "code",
      "execution_count": null,
      "metadata": {
        "colab": {
          "base_uri": "https://localhost:8080/"
        },
        "id": "FgQsVLWCzUB5",
        "outputId": "19f51835-e963-498b-e7fb-d6cb4e2a65a2"
      },
      "outputs": [
        {
          "name": "stdout",
          "output_type": "stream",
          "text": [
            "1/1 [==============================] - 0s 125ms/step\n",
            "Predicted: [[0.8130728  0.18692714]] (class=0)\n"
          ]
        }
      ],
      "source": [
        "row = [0, 0, 1, 2, 6, 2, 1, 1, 2, 1, 1, 59, 16, 7]\n",
        "y_hat = model.predict([row])\n",
        "print('Predicted: %s (class=%d)' % (y_hat, y_hat.argmax(axis=1)))"
      ]
    },
    {
      "cell_type": "code",
      "execution_count": null,
      "metadata": {
        "colab": {
          "base_uri": "https://localhost:8080/"
        },
        "id": "P7eJevHu59Pn",
        "outputId": "639f13c0-7d4b-496c-b12f-1f599debcbb4"
      },
      "outputs": [
        {
          "name": "stdout",
          "output_type": "stream",
          "text": [
            "1/1 [==============================] - 0s 44ms/step\n",
            "Predicted: [[0.00173666 0.9982633 ]] (class=1)\n"
          ]
        }
      ],
      "source": [
        "row = [2.5, 2, 3, 4, 6, 1, 2, 2, 2, 1, 3, 80, 80, 7]\n",
        "y_hat = model.predict([row])\n",
        "print('Predicted: %s (class=%d)' % (y_hat, y_hat.argmax(axis=1)))"
      ]
    },
    {
      "cell_type": "code",
      "execution_count": null,
      "metadata": {
        "colab": {
          "base_uri": "https://localhost:8080/"
        },
        "id": "Tk6Mq1eS59yn",
        "outputId": "5c5eafe9-6b5e-45da-8c84-90b3a57d54b0"
      },
      "outputs": [
        {
          "name": "stdout",
          "output_type": "stream",
          "text": [
            "1/1 [==============================] - 0s 40ms/step\n",
            "Predicted: [[0.07059525 0.92940474]] (class=1)\n"
          ]
        }
      ],
      "source": [
        "row = [4, 3, 1, 1, 6, 2, 1, 1, 1, 2, 3, 92, 41, 9]\n",
        "y_hat = model.predict([row])\n",
        "print('Predicted: %s (class=%d)' % (y_hat, y_hat.argmax(axis=1)))"
      ]
    },
    {
      "cell_type": "code",
      "execution_count": null,
      "metadata": {
        "colab": {
          "base_uri": "https://localhost:8080/"
        },
        "id": "8WQBJgHG6xx2",
        "outputId": "e854cb31-2d81-46d8-9d39-846d1ab07218"
      },
      "outputs": [
        {
          "name": "stdout",
          "output_type": "stream",
          "text": [
            "1/1 [==============================] - 0s 42ms/step\n",
            "Predicted: [[0.3235028 0.6764972]] (class=1)\n"
          ]
        }
      ],
      "source": [
        "row = [1, 1, 3, 4, 6, 2, 2, 2, 2, 2, 0, 92, 41, 9]\n",
        "y_hat = model.predict([row])\n",
        "print('Predicted: %s (class=%d)' % (y_hat, y_hat.argmax(axis=1)))"
      ]
    },
    {
      "attachments": {},
      "cell_type": "markdown",
      "metadata": {
        "id": "DzaomG9PyGA5"
      },
      "source": [
        "### **F. SAVE MODEL**"
      ]
    },
    {
      "attachments": {},
      "cell_type": "markdown",
      "metadata": {},
      "source": [
        "Save the model in h5 format"
      ]
    },
    {
      "cell_type": "code",
      "execution_count": null,
      "metadata": {
        "id": "OMBH6xI7Gbc_"
      },
      "outputs": [],
      "source": [
        "# Save the entire model to a HDF5 file.\n",
        "# The '.h5' extension indicates that the model should be saved to HDF5.\n",
        "model.save('my_last_model.h5')"
      ]
    },
    {
      "attachments": {},
      "cell_type": "markdown",
      "metadata": {},
      "source": [
        "Save the data into csv files"
      ]
    },
    {
      "cell_type": "code",
      "execution_count": null,
      "metadata": {
        "colab": {
          "base_uri": "https://localhost:8080/"
        },
        "id": "XTyIflk7Z4EK",
        "outputId": "606715a9-9abd-4304-aaa3-9283813186b3"
      },
      "outputs": [
        {
          "name": "stdout",
          "output_type": "stream",
          "text": [
            "[[ 2.28        2.42        3.         ... 77.15273775 32.55794872\n",
            "   8.        ]\n",
            " [ 2.8460731   2.82017558  1.         ... 77.15273775 25.\n",
            "   9.        ]\n",
            " [ 2.94        3.25        1.         ... 77.15273775 21.\n",
            "   9.        ]\n",
            " ...\n",
            " [ 2.083333    1.763158    1.         ... 77.15273775 32.55794872\n",
            "   3.        ]\n",
            " [ 2.2         1.47619     1.         ... 82.         23.\n",
            "   7.        ]\n",
            " [ 3.020833    2.130435    3.         ... 77.15273775 34.\n",
            "   8.        ]] <class 'numpy.ndarray'>\n"
          ]
        }
      ],
      "source": [
        "# Save Data\n",
        "print(X_train, type(X_train))\n",
        "\n",
        "# Convert the NumPy array to a Pandas DataFrame\n",
        "X_train_df = pd.DataFrame(X_train)\n",
        "X_val_df = pd.DataFrame(X_val)\n",
        "X_test_df = pd.DataFrame(X_test)\n",
        "y_train_df = pd.DataFrame(y_train)\n",
        "y_val_df = pd.DataFrame(y_val)\n",
        "y_test_df = pd.DataFrame(y_test)\n",
        "\n",
        "# Write the data to a CSV file\n",
        "X_train_df.to_csv('X_train_data_group_acdc.csv',index=False)\n",
        "X_val_df.to_csv('X_val_data_group_acdc.csv',index=False)\n",
        "X_test_df.to_csv('X_test_data_group_acdc.csv',index=False)\n",
        "\n",
        "y_train_df.to_csv('y_train_data_group_acdc.csv',index=False)\n",
        "y_val_df.to_csv('y_val_data_group_acdc.csv',index=False)\n",
        "y_test_df.to_csv('y_test_data_group_acdc.csv',index=False)"
      ]
    },
    {
      "attachments": {},
      "cell_type": "markdown",
      "metadata": {},
      "source": [
        "Load the model saved to test it"
      ]
    },
    {
      "cell_type": "code",
      "execution_count": null,
      "metadata": {
        "colab": {
          "base_uri": "https://localhost:8080/"
        },
        "id": "job8fRpjITM1",
        "outputId": "8f5febad-b783-4fa8-85dd-6c8df7822124"
      },
      "outputs": [
        {
          "name": "stdout",
          "output_type": "stream",
          "text": [
            "Model: \"sequential\"\n",
            "_________________________________________________________________\n",
            " Layer (type)                Output Shape              Param #   \n",
            "=================================================================\n",
            " dense (Dense)               (None, 14)                210       \n",
            "                                                                 \n",
            " normalization (Normalizatio  (None, 14)               3         \n",
            " n)                                                              \n",
            "                                                                 \n",
            " dense_1 (Dense)             (None, 300)               4500      \n",
            "                                                                 \n",
            " dense_2 (Dense)             (None, 150)               45150     \n",
            "                                                                 \n",
            " alpha_dropout (AlphaDropout  (None, 150)              0         \n",
            " )                                                               \n",
            "                                                                 \n",
            " dense_3 (Dense)             (None, 80)                12080     \n",
            "                                                                 \n",
            " dense_4 (Dense)             (None, 25)                2025      \n",
            "                                                                 \n",
            " dense_5 (Dense)             (None, 2)                 52        \n",
            "                                                                 \n",
            "=================================================================\n",
            "Total params: 64,020\n",
            "Trainable params: 64,017\n",
            "Non-trainable params: 3\n",
            "_________________________________________________________________\n"
          ]
        }
      ],
      "source": [
        "# Recreate the exact same model, including its weights and the optimizer\n",
        "new_model = tf.keras.models.load_model('my_last_model.h5')\n",
        "\n",
        "# Show the model architecture\n",
        "new_model.summary()"
      ]
    },
    {
      "attachments": {},
      "cell_type": "markdown",
      "metadata": {},
      "source": [
        "Examples to test the prediction with the new model (loaded) using a list"
      ]
    },
    {
      "cell_type": "code",
      "execution_count": null,
      "metadata": {
        "colab": {
          "base_uri": "https://localhost:8080/"
        },
        "id": "C4sdhoGQIbKR",
        "outputId": "555e8b82-bc10-4ace-db77-80a8ce0b1b25"
      },
      "outputs": [
        {
          "name": "stdout",
          "output_type": "stream",
          "text": [
            "1/1 [==============================] - 0s 182ms/step\n",
            "Predicted: [[0.8130728  0.18692714]] (class=0)\n"
          ]
        }
      ],
      "source": [
        "row = [0, 0, 1, 2, 6, 2, 1, 1, 2, 1, 1, 59, 16, 7]\n",
        "y_hat = new_model.predict([row])\n",
        "print('Predicted: %s (class=%d)' % (y_hat, y_hat.argmax(axis=1)))"
      ]
    },
    {
      "cell_type": "code",
      "execution_count": null,
      "metadata": {
        "colab": {
          "base_uri": "https://localhost:8080/"
        },
        "id": "bx0dtnNkIkQ9",
        "outputId": "01d08ea2-0990-443a-a8d3-021a842ec997"
      },
      "outputs": [
        {
          "name": "stdout",
          "output_type": "stream",
          "text": [
            "1/1 [==============================] - 0s 162ms/step\n",
            "Predicted: [[0.07059525 0.92940474]] (class=1)\n"
          ]
        }
      ],
      "source": [
        "row = [4, 3, 1, 1, 6, 2, 1, 1, 1, 2, 3, 92, 41, 9]\n",
        "y_hat = new_model.predict([row])\n",
        "print('Predicted: %s (class=%d)' % (y_hat, y_hat.argmax(axis=1)))"
      ]
    }
  ],
  "metadata": {
    "colab": {
      "provenance": []
    },
    "kernelspec": {
      "display_name": "Python 3",
      "name": "python3"
    },
    "language_info": {
      "name": "python"
    }
  },
  "nbformat": 4,
  "nbformat_minor": 0
}
